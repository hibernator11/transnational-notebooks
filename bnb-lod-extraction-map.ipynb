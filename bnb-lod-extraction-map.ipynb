{
 "cells": [
  {
   "cell_type": "markdown",
   "metadata": {},
   "source": [
    "# BNB Linked Data Platform\n",
    "\n",
    "The [BNB Linked Data Platform](https://bnb.data.bl.uk/) provides access to the [British National Bibliography (BNB)](http://www.bl.uk/bibliographic/natbib.html) published as linked open data and made available through SPARQL services. \n",
    "\n",
    "This notebook explains how to query the repository and obtain places of publication (fields blt:publication and blt:projectedPublication ) to show an interactive map. Thanks that the works are linked to [GeoNames](https://www.geonames.org/), the records can be linked to external repositories. This notebook  obtains information from [Wikidata](https://www.wikidata.org), showing the benefits of Linked Open Data."
   ]
  },
  {
   "cell_type": "markdown",
   "metadata": {},
   "source": [
    "## Global configuration\n",
    "\n",
    "In this section, you can set the author from the BNB by using its identifier. "
   ]
  },
  {
   "cell_type": "code",
   "execution_count": 1,
   "metadata": {},
   "outputs": [],
   "source": [
    "#bnbIdAuthor = 'http://bnb.data.bl.uk/id/person/DickensCharles1812-1870'\n",
    "#bnbIdAuthor = 'http://bnb.data.bl.uk/id/person/BlakeWilliam1757-1827'\n",
    "#bnbIdAuthor = 'http://bnb.data.bl.uk/id/person/WoolfVirginia1882-1941'\n",
    "bnbIdAuthor = 'http://bnb.data.bl.uk/id/person/ShakespeareWilliam1564-1616'"
   ]
  },
  {
   "cell_type": "markdown",
   "metadata": {},
   "source": [
    "## Setting up things"
   ]
  },
  {
   "cell_type": "code",
   "execution_count": 2,
   "metadata": {},
   "outputs": [],
   "source": [
    "import folium\n",
    "import requests\n",
    "import pandas as pd\n",
    "import json\n",
    "import csv\n",
    "import matplotlib.pyplot as plt\n",
    "from pandas.io.json import json_normalize  "
   ]
  },
  {
   "cell_type": "markdown",
   "metadata": {},
   "source": [
    "## Let's query the repository by asking the publications related to William Shakespeare\n",
    "We will use the [SPARQL endpoint](https://bnb.data.bl.uk/flint-sparql) to create the query and configure the request to retrieve json as a result."
   ]
  },
  {
   "cell_type": "code",
   "execution_count": 3,
   "metadata": {},
   "outputs": [
    {
     "name": "stdout",
     "output_type": "stream",
     "text": [
      "Elements retrieved!\n",
      "\n",
      "{ \"head\": { \"link\": [], \"vars\": [\"resource\", \"title\", \"date\", \"place\"] },\n",
      "  \"results\": { \"distinct\": false, \"ordered\": true, \"bindings\": [\n",
      "    { \"resource\": { \"type\": \"uri\", \"value\": \"http://bnb.data.bl.uk/id/resource/013310275\" }\t, \"title\": { \"type\": \"literal\", \"value\": \"Macbeth : teachit KS3 interactive pack\" }\t, \"date\": { \"type\": \"literal\", \"value\": \"2006-01\" }\t, \"place\": { \"type\": \"uri\", \"value\": \"http://sws.geonames.org/6269131/\" }},\n",
      "    { \"resource\": { \"type\": \"uri\", \"value\": \"http://bnb.data.bl.uk/id/resource/013310276\" }\t, \"title\": { \"type\": \"literal\", \"value\": \"Much ado about nothing : teachit KS3 interactive pack\" }\t, \"date\": { \"type\": \"literal\", \"value\": \"2006-01\" }\t, \"place\": { \"type\": \"uri\", \"value\": \"http://sws.geonames.org/6269131/\" }},\n",
      "    { \"resource\": { \"type\": \"uri\", \"value\": \"http://bnb.data.bl.uk/id/resource/013315368\" }\t, \"title\": { \"type\": \"literal\", \"value\": \"Hamlet\" }\t, \"date\": { \"type\": \"literal\", \"value\": \"2006-01\" }\t, \"place\": { \"type\": \"uri\", \"value\": \"http://sws.geonames.org/6269131/\" }},\n",
      "    { \"resource\": { \"type\": \"uri\", \"value\": \"http://bnb.data.bl.uk/id/resource/019599478\" }\t, \"title\": { \"type\": \"literal\", \"value\": \"Twelfth night\" }\t, \"date\": { \"type\": \"literal\", \"value\": \"2020-01\" }\t, \"place\": { \"type\": \"uri\", \"value\": \"http://sws.geonames.org/6269131/\" }},\n",
      "    { \"resource\": { \"type\": \"uri\", \"value\": \"http://bnb.data.bl.uk/id/resource/019599479\" }\t, \"title\": { \"type\": \"literal\", \"value\": \"The tempest : the alexander text\" }\t, \"date\": { \"type\": \"literal\", \"value\": \"2019-11\" }\t, \"place\": { \"type\": \"uri\", \"value\": \"http://sws.geonames.org/6269131/\" }},\n",
      "    { \"resource\": { \"type\": \"uri\", \"value\": \"http://bnb.data.bl.uk/id/resource/006937440\" }\t, \"title\": { \"type\": \"literal\", \"value\": \"Timon of Athens\" }\t, \"date\": { \"type\": \"literal\", \"value\": \"2004-04\" }\t, \"place\": { \"type\": \"uri\", \"value\": \"http://sws.geonames.org/6269131/\" }},\n",
      "    { \"resource\": { \"type\": \"uri\", \"value\": \"http://bnb.data.bl.uk/id/resource/006954359\" }\t, \"title\": { \"type\": \"literal\", \"value\": \"Peter Brook's Hamlet\" }\t, \"date\": { \"type\": \"literal\", \"value\": \"2001-08\" }\t, \"place\": { \"type\": \"uri\", \"value\": \"http://sws.geonames.org/6269131/\" }},\n",
      "    { \"resource\": { \"type\": \"uri\", \"value\": \"http://bnb.data.bl.uk/id/resource/018234698\" }\t, \"title\": { \"type\": \"literal\", \"value\": \"A midsummer night's dream\" }\t, \"date\": { \"type\": \"literal\", \"value\": \"2017-03\" }\t, \"place\": { \"type\": \"uri\", \"value\": \"http://sws.geonames.org/6269131/\" }},\n",
      "    { \"resource\": { \"type\": \"uri\", \"value\": \"http://bnb.data.bl.uk/id/resource/018234699\" }\t, \"title\": { \"type\": \"literal\", \"value\": \"Macbeth\" }\t, \"date\": { \"type\": \"literal\", \"value\": \"2017-03\" }\t, \"place\": { \"type\": \"uri\", \"value\": \"http://sws.geonames.org/6269131/\" }},\n",
      "    { \"resource\": { \"type\": \"uri\", \"value\": \"http://bnb.data.bl.uk/id/resource/018915583\" }\t, \"title\": { \"type\": \"literal\", \"value\": \"Shakespeare's sonnets\" }\t, \"date\": { \"type\": \"literal\", \"value\": \"2018-07\" }\t, \"place\": { \"type\": \"uri\", \"value\": \"http://sws.geonames.org/6269131/\" }},\n",
      "    { \"resource\": { \"type\": \"uri\", \"value\": \"http://bnb.data.bl.uk/id/resource/015739424\" }\t, \"title\": { \"type\": \"literal\", \"value\": \"Julius Caesar the graphic novel : original text\" }\t, \"date\": { \"type\": \"literal\", \"value\": \"2011-05\" }\t, \"place\": { \"type\": \"uri\", \"value\": \"http://sws.geonames.org/6269131/\" }},\n",
      "    { \"resource\": { \"type\": \"uri\", \"value\": \"http://bnb.data.bl.uk/id/resource/015739425\" }\t, \"title\": { \"type\": \"literal\", \"value\": \"Julius Caesar the graphic novel : plain text\" }\t, \"date\": { \"type\": \"literal\", \"value\": \"2011-05\" }\t, \"place\": { \"type\": \"uri\", \"value\": \"http://sws.geonames.org/6269131/\" }},\n",
      "    { \"resource\": { \"type\": \"uri\", \"value\": \"http://bnb.data.bl.uk/id/resource/015739426\" }\t, \"title\": { \"type\": \"literal\", \"value\": \"Julius Caesar the graphic novel : quick text\" }\t, \"date\": { \"type\": \"literal\", \"value\": \"2011-05\" }\t, \"place\": { \"type\": \"uri\", \"value\": \"http://sws.geonames.org/6269131/\" }},\n",
      "    { \"resource\": { \"type\": \"uri\", \"value\": \"http://bnb.data.bl.uk/id/resource/017944371\" }\t, \"title\": { \"type\": \"literal\", \"value\": \"King Richard III\" }\t, \"date\": { \"type\": \"literal\", \"value\": \"2016-08\" }\t, \"place\": { \"type\": \"uri\", \"value\": \"http://sws.geonames.org/6269131/\" }},\n",
      "    { \"resource\": { \"type\": \"uri\", \"value\": \"http://bnb.data.bl.uk/id/resource/017955874\" }\t, \"title\": { \"type\": \"literal\", \"value\": \"The best loved plays of Shakespeare\" }\t, \"date\": { \"type\": \"literal\", \"value\": \"2016-10\" }\t, \"place\": { \"type\": \"uri\", \"value\": \"http://sws.geonames.org/6269131/\" }},\n",
      "    { \"resource\": { \"type\": \"uri\", \"value\": \"http://bnb.data.bl.uk/id/resource/019327483\" }\t, \"title\": { \"type\": \"literal\", \"value\": \"Hamlet, Prince of Denmark\" }\t, \"date\": { \"type\": \"literal\", \"value\": \"2019-03\" }\t, \"place\": { \"type\": \"uri\", \"value\": \"http://sws.geonames.org/6269131/\" }},\n",
      "    { \"resource\": { \"type\": \"uri\", \"value\": \"http://bnb.data.bl.uk/id/resource/019327532\" }\t, \"title\": { \"type\": \"literal\", \"value\": \"As you like it\" }\t, \"date\": { \"type\": \"literal\", \"value\": \"2019-04\" }\t, \"place\": { \"type\": \"uri\", \"value\": \"http://sws.geonames.org/6269131/\" }},\n",
      "    { \"resource\": { \"type\": \"uri\", \"value\": \"http://bnb.data.bl.uk/id/resource/019346509\" }\t, \"title\": { \"type\": \"literal\", \"value\": \"The tempest\" }\t, \"date\": { \"type\": \"literal\", \"value\": \"2019-06\" }\t, \"place\": { \"type\": \"uri\", \"value\": \"http://sws.geonames.org/6269131/\" }},\n",
      "    { \"resource\": { \"type\": \"uri\", \"value\": \"http://bnb.data.bl.uk/id/resource/019346510\" }\t, \"title\": { \"type\": \"literal\", \"value\": \"Much ado about nothing\" }\t, \"date\": { \"type\": \"literal\", \"value\": \"2019-06\" }\t, \"place\": { \"type\": \"uri\", \"value\": \"http://sws.geonames.org/6269131/\" }},\n",
      "    { \"resource\": { \"type\": \"uri\", \"value\": \"http://bnb.data.bl.uk/id/resource/019452404\" }\t, \"title\": { \"type\": \"literal\", \"value\": \"Macbeth\" }\t, \"date\": { \"type\": \"literal\", \"value\": \"2019-09\" }\t, \"place\": { \"type\": \"uri\", \"value\": \"http://sws.geonames.org/6269131/\" }},\n",
      "    { \"resource\": { \"type\": \"uri\", \"value\": \"http://bnb.data.bl.uk/id/resource/019452405\" }\t, \"title\": { \"type\": \"literal\", \"value\": \"Romeo and Juliet\" }\t, \"date\": { \"type\": \"literal\", \"value\": \"2019-09\" }\t, \"place\": { \"type\": \"uri\", \"value\": \"http://sws.geonames.org/6269131/\" }},\n",
      "    { \"resource\": { \"type\": \"uri\", \"value\": \"http://bnb.data.bl.uk/id/resource/019632971\" }\t, \"title\": { \"type\": \"literal\", \"value\": \"The merchant of Venice\" }\t, \"date\": { \"type\": \"literal\", \"value\": \"2020-02\" }\t, \"place\": { \"type\": \"uri\", \"value\": \"http://sws.geonames.org/6269131/\" }},\n",
      "    { \"resource\": { \"type\": \"uri\", \"value\": \"http://bnb.data.bl.uk/id/resource/019700115\" }\t, \"title\": { \"type\": \"literal\", \"value\": \"Twelfth night\" }\t, \"date\": { \"type\": \"literal\", \"value\": \"2020-04\" }\t, \"place\": { \"type\": \"uri\", \"value\": \"http://sws.geonames.org/6269131/\" }},\n",
      "    { \"resource\": { \"type\": \"uri\", \"value\": \"http://bnb.data.bl.uk/id/resource/019802164\" }\t, \"title\": { \"type\": \"literal\", \"value\": \"Henry IV, part 1\" }\t, \"date\": { \"type\": \"literal\", \"value\": \"2020-05\" }\t, \"place\": { \"type\": \"uri\", \"value\": \"http://sws.geonames.org/6252001/\" }},\n",
      "    { \"resource\": { \"type\": \"uri\", \"value\": \"http://bnb.data.bl.uk/id/resource/019802165\" }\t, \"title\": { \"type\": \"literal\", \"value\": \"Coriolanus\" }\t, \"date\": { \"type\": \"literal\", \"value\": \"2020-05\" }\t, \"place\": { \"type\": \"uri\", \"value\": \"http://sws.geonames.org/6252001/\" }},\n",
      "    { \"resource\": { \"type\": \"uri\", \"value\": \"http://bnb.data.bl.uk/id/resource/019802166\" }\t, \"title\": { \"type\": \"literal\", \"value\": \"King Lear\" }\t, \"date\": { \"type\": \"literal\", \"value\": \"2020-05\" }\t, \"place\": { \"type\": \"uri\", \"value\": \"http://sws.geonames.org/6252001/\" }},\n",
      "    { \"resource\": { \"type\": \"uri\", \"value\": \"http://bnb.data.bl.uk/id/resource/019802167\" }\t, \"title\": { \"type\": \"literal\", \"value\": \"Julius Caesar\" }\t, \"date\": { \"type\": \"literal\", \"value\": \"2020-05\" }\t, \"place\": { \"type\": \"uri\", \"value\": \"http://sws.geonames.org/6252001/\" }},\n",
      "    { \"resource\": { \"type\": \"uri\", \"value\": \"http://bnb.data.bl.uk/id/resource/019802168\" }\t, \"title\": { \"type\": \"literal\", \"value\": \"Richard III\" }\t, \"date\": { \"type\": \"literal\", \"value\": \"2020-05\" }\t, \"place\": { \"type\": \"uri\", \"value\": \"http://sws.geonames.org/6252001/\" }},\n",
      "    { \"resource\": { \"type\": \"uri\", \"value\": \"http://bnb.data.bl.uk/id/resource/019802169\" }\t, \"title\": { \"type\": \"literal\", \"value\": \"A midsummer night's dream\" }\t, \"date\": { \"type\": \"literal\", \"value\": \"2020-05\" }\t, \"place\": { \"type\": \"uri\", \"value\": \"http://sws.geonames.org/6252001/\" }},\n",
      "    { \"resource\": { \"type\": \"uri\", \"value\": \"http://bnb.data.bl.uk/id/resource/019802170\" }\t, \"title\": { \"type\": \"literal\", \"value\": \"Macbeth\" }\t, \"date\": { \"type\": \"literal\", \"value\": \"2020-05\" }\t, \"place\": { \"type\": \"uri\", \"value\": \"http://sws.geonames.org/6252001/\" }},\n",
      "    { \"resource\": { \"type\": \"uri\", \"value\": \"http://bnb.data.bl.uk/id/resource/018150032\" }\t, \"title\": { \"type\": \"literal\", \"value\": \"Shakespeare's King Lear\" }\t, \"date\": { \"type\": \"literal\", \"value\": \"2017-01\" }\t, \"place\": { \"type\": \"uri\", \"value\": \"http://sws.geonames.org/6269131/\" }},\n",
      "    { \"resource\": { \"type\": \"uri\", \"value\": \"http://bnb.data.bl.uk/id/resource/018499034\" }\t, \"title\": { \"type\": \"literal\", \"value\": \"The taming of the shrew\" }\t, \"date\": { \"type\": \"literal\", \"value\": \"2017-08\" }\t, \"place\": { \"type\": \"uri\", \"value\": \"http://sws.geonames.org/6269131/\" }},\n",
      "    { \"resource\": { \"type\": \"uri\", \"value\": \"http://bnb.data.bl.uk/id/resource/018579480\" }\t, \"title\": { \"type\": \"literal\", \"value\": \"Mr. William Shakespeares comedies, histories, and tragedies : a facsimile of the first folio, 1623\" }\t, \"date\": { \"type\": \"literal\", \"value\": \"2017-10\" }\t, \"place\": { \"type\": \"uri\", \"value\": \"http://sws.geonames.org/6269131/\" }},\n",
      "    { \"resource\": { \"type\": \"uri\", \"value\": \"http://bnb.data.bl.uk/id/resource/019251387\" }\t, \"title\": { \"type\": \"literal\", \"value\": \"The tempest : an authoritative text, sources and contexts, criticism, rewritings and appropriations\" }\t, \"date\": { \"type\": \"literal\", \"value\": \"2019-03\" }\t, \"place\": { \"type\": \"uri\", \"value\": \"http://sws.geonames.org/6252001/\" }},\n",
      "    { \"resource\": { \"type\": \"uri\", \"value\": \"http://bnb.data.bl.uk/id/resource/019682367\" }\t, \"title\": { \"type\": \"literal\", \"value\": \"Romeo and Juliet & The merchant of Venice\" }\t, \"date\": { \"type\": \"literal\", \"value\": \"2020-01\" }\t, \"place\": { \"type\": \"uri\", \"value\": \"http://sws.geonames.org/6269131/\" }},\n",
      "    { \"resource\": { \"type\": \"uri\", \"value\": \"http://bnb.data.bl.uk/id/resource/009695262\" }\t, \"title\": { \"type\": \"literal\", \"value\": \"King Henry VIII\" }\t, \"date\": { \"type\": \"literal\", \"value\": \"2000-09\" }\t, \"place\": { \"type\": \"uri\", \"value\": \"http://sws.geonames.org/6269131/\" }},\n",
      "    { \"resource\": { \"type\": \"uri\", \"value\": \"http://bnb.data.bl.uk/id/resource/009695263\" }\t, \"title\": { \"type\": \"literal\", \"value\": \"The tempest\" }\t, \"date\": { \"type\": \"literal\", \"value\": \"1999-06\" }\t, \"place\": { \"type\": \"uri\", \"value\": \"http://sws.geonames.org/6269131/\" }},\n",
      "    { \"resource\": { \"type\": \"uri\", \"value\": \"http://bnb.data.bl.uk/id/resource/015265799\" }\t, \"title\": { \"type\": \"literal\", \"value\": \"Twelfth night\" }\t, \"date\": { \"type\": \"literal\", \"value\": \"2009-07\" }\t, \"place\": { \"type\": \"uri\", \"value\": \"http://sws.geonames.org/6269131/\" }},\n",
      "    { \"resource\": { \"type\": \"uri\", \"value\": \"http://bnb.data.bl.uk/id/resource/015442991\" }\t, \"title\": { \"type\": \"literal\", \"value\": \"Romeo and Juliet\" }\t, \"date\": { \"type\": \"literal\", \"value\": \"2010-03\" }\t, \"place\": { \"type\": \"uri\", \"value\": \"http://sws.geonames.org/6269131/\" }},\n",
      "    { \"resource\": { \"type\": \"uri\", \"value\": \"http://bnb.data.bl.uk/id/resource/018375593\" }\t, \"title\": { \"type\": \"literal\", \"value\": \"The new Oxford Shakespeare : the complete works\" }\t, \"date\": { \"type\": \"literal\", \"value\": \"2017-08\" }\t, \"place\": { \"type\": \"uri\", \"value\": \"http://sws.geonames.org/6269131/\" }},\n",
      "    { \"resource\": { \"type\": \"uri\", \"value\": \"http://bnb.data.bl.uk/id/resource/018376622\" }\t, \"title\": { \"type\": \"literal\", \"value\": \"The first Hebrew Shakespeare translations : a bilingual edition and commentary\" }\t, \"date\": { \"type\": \"literal\", \"value\": \"2017-07\" }\t, \"place\": { \"type\": \"uri\", \"value\": \"http://sws.geonames.org/6269131/\" }},\n",
      "    { \"resource\": { \"type\": \"uri\", \"value\": \"http://bnb.data.bl.uk/id/resource/018385705\" }\t, \"title\": { \"type\": \"literal\", \"value\": \"The new Oxford Shakespeare : critical reference edition. Vol. 1\" }\t, \"date\": { \"type\": \"literal\", \"value\": \"2017-06\" }\t, \"place\": { \"type\": \"uri\", \"value\": \"http://sws.geonames.org/6269131/\" }},\n",
      "    { \"resource\": { \"type\": \"uri\", \"value\": \"http://bnb.data.bl.uk/id/resource/018385706\" }\t, \"title\": { \"type\": \"literal\", \"value\": \"The new Oxford Shakespeare : critical reference edition. Vol. 2\" }\t, \"date\": { \"type\": \"literal\", \"value\": \"2017-06\" }\t, \"place\": { \"type\": \"uri\", \"value\": \"http://sws.geonames.org/6269131/\" }},\n",
      "    { \"resource\": { \"type\": \"uri\", \"value\": \"http://bnb.data.bl.uk/id/resource/018406911\" }\t, \"title\": { \"type\": \"literal\", \"value\": \"A midsummer night's dream\" }\t, \"date\": { \"type\": \"literal\", \"value\": \"2017-08\" }\t, \"place\": { \"type\": \"uri\", \"value\": \"http://sws.geonames.org/6252001/\" }},\n",
      "    { \"resource\": { \"type\": \"uri\", \"value\": \"http://bnb.data.bl.uk/id/resource/018730225\" }\t, \"title\": { \"type\": \"literal\", \"value\": \"Love's labor's lost\" }\t, \"date\": { \"type\": \"literal\", \"value\": \"2018-04\" }\t, \"place\": { \"type\": \"uri\", \"value\": \"http://sws.geonames.org/6269131/\" }},\n",
      "    { \"resource\": { \"type\": \"uri\", \"value\": \"http://bnb.data.bl.uk/id/resource/018730226\" }\t, \"title\": { \"type\": \"literal\", \"value\": \"The comedy of errors\" }\t, \"date\": { \"type\": \"literal\", \"value\": \"2018-04\" }\t, \"place\": { \"type\": \"uri\", \"value\": \"http://sws.geonames.org/6269131/\" }},\n",
      "    { \"resource\": { \"type\": \"uri\", \"value\": \"http://bnb.data.bl.uk/id/resource/018730227\" }\t, \"title\": { \"type\": \"literal\", \"value\": \"The two gentlemen of Verona\" }\t, \"date\": { \"type\": \"literal\", \"value\": \"2018-04\" }\t, \"place\": { \"type\": \"uri\", \"value\": \"http://sws.geonames.org/6269131/\" }},\n",
      "    { \"resource\": { \"type\": \"uri\", \"value\": \"http://bnb.data.bl.uk/id/resource/018730228\" }\t, \"title\": { \"type\": \"literal\", \"value\": \"Henry VI, part I\" }\t, \"date\": { \"type\": \"literal\", \"value\": \"2018-04\" }\t, \"place\": { \"type\": \"uri\", \"value\": \"http://sws.geonames.org/6269131/\" }},\n",
      "    { \"resource\": { \"type\": \"uri\", \"value\": \"http://bnb.data.bl.uk/id/resource/018730229\" }\t, \"title\": { \"type\": \"literal\", \"value\": \"Henry VIII\" }\t, \"date\": { \"type\": \"literal\", \"value\": \"2018-04\" }\t, \"place\": { \"type\": \"uri\", \"value\": \"http://sws.geonames.org/6269131/\" }},\n",
      "    { \"resource\": { \"type\": \"uri\", \"value\": \"http://bnb.data.bl.uk/id/resource/018730230\" }\t, \"title\": { \"type\": \"literal\", \"value\": \"Coriolanus\" }\t, \"date\": { \"type\": \"literal\", \"value\": \"2018-04\" }\t, \"place\": { \"type\": \"uri\", \"value\": \"http://sws.geonames.org/6269131/\" }},\n",
      "    { \"resource\": { \"type\": \"uri\", \"value\": \"http://bnb.data.bl.uk/id/resource/018732367\" }\t, \"title\": { \"type\": \"literal\", \"value\": \"William Shakespeare\" }\t, \"date\": { \"type\": \"literal\", \"value\": \"2018-04\" }\t, \"place\": { \"type\": \"uri\", \"value\": \"http://sws.geonames.org/6252001/\" }},\n",
      "    { \"resource\": { \"type\": \"uri\", \"value\": \"http://bnb.data.bl.uk/id/resource/018743722\" }\t, \"title\": { \"type\": \"literal\", \"value\": \"King John\" }\t, \"date\": { \"type\": \"literal\", \"value\": \"2018-02\" }\t, \"place\": { \"type\": \"uri\", \"value\": \"http://sws.geonames.org/6269131/\" }},\n",
      "    { \"resource\": { \"type\": \"uri\", \"value\": \"http://bnb.data.bl.uk/id/resource/019010353\" }\t, \"title\": { \"type\": \"literal\", \"value\": \"Love's labour's lost\" }\t, \"date\": { \"type\": \"literal\", \"value\": \"2018-08\" }\t, \"place\": { \"type\": \"uri\", \"value\": \"http://sws.geonames.org/2921044/\" }},\n",
      "    { \"resource\": { \"type\": \"uri\", \"value\": \"http://bnb.data.bl.uk/id/resource/019010354\" }\t, \"title\": { \"type\": \"literal\", \"value\": \"Love's labour's lost\" }\t, \"date\": { \"type\": \"literal\", \"value\": \"2018-08\" }\t, \"place\": { \"type\": \"uri\", \"value\": \"http://sws.geonames.org/2921044/\" }},\n",
      "    { \"resource\": { \"type\": \"uri\", \"value\": \"http://bnb.data.bl.uk/id/resource/019011981\" }\t, \"title\": { \"type\": \"literal\", \"value\": \"Romeo and Juliet\" }\t, \"date\": { \"type\": \"literal\", \"value\": \"2018-07\" }\t, \"place\": { \"type\": \"uri\", \"value\": \"http://sws.geonames.org/6252001/\" }},\n",
      "    { \"resource\": { \"type\": \"uri\", \"value\": \"http://bnb.data.bl.uk/id/resource/019011984\" }\t, \"title\": { \"type\": \"literal\", \"value\": \"Love's labour's lost\" }\t, \"date\": { \"type\": \"literal\", \"value\": \"2018-07\" }\t, \"place\": { \"type\": \"uri\", \"value\": \"http://sws.geonames.org/6252001/\" }},\n",
      "    { \"resource\": { \"type\": \"uri\", \"value\": \"http://bnb.data.bl.uk/id/resource/019011985\" }\t, \"title\": { \"type\": \"literal\", \"value\": \"King Lear\" }\t, \"date\": { \"type\": \"literal\", \"value\": \"2018-07\" }\t, \"place\": { \"type\": \"uri\", \"value\": \"http://sws.geonames.org/6252001/\" }},\n",
      "    { \"resource\": { \"type\": \"uri\", \"value\": \"http://bnb.data.bl.uk/id/resource/019284753\" }\t, \"title\": { \"type\": \"literal\", \"value\": \"Much ado about nothing\" }\t, \"date\": { \"type\": \"literal\", \"value\": \"2019-05\" }\t, \"place\": { \"type\": \"uri\", \"value\": \"http://sws.geonames.org/6269131/\" }},\n",
      "    { \"resource\": { \"type\": \"uri\", \"value\": \"http://bnb.data.bl.uk/id/resource/019297191\" }\t, \"title\": { \"type\": \"literal\", \"value\": \"Venus & Adonis\" }\t, \"date\": { \"type\": \"literal\", \"value\": \"2019-02\" }\t, \"place\": { \"type\": \"uri\", \"value\": \"http://sws.geonames.org/6252001/\" }},\n",
      "    { \"resource\": { \"type\": \"uri\", \"value\": \"http://bnb.data.bl.uk/id/resource/019484747\" }\t, \"title\": { \"type\": \"literal\", \"value\": \"Macbeth\" }\t, \"date\": { \"type\": \"literal\", \"value\": \"2019-07\" }\t, \"place\": { \"type\": \"uri\", \"value\": \"http://sws.geonames.org/6269131/\" }},\n",
      "    { \"resource\": { \"type\": \"uri\", \"value\": \"http://bnb.data.bl.uk/id/resource/013656332\" }\t, \"title\": { \"type\": \"literal\", \"value\": \"The merchant of Venice\" }\t, \"date\": { \"type\": \"literal\", \"value\": \"2007-04\" }\t, \"place\": { \"type\": \"uri\", \"value\": \"http://sws.geonames.org/6269131/\" }},\n",
      "    { \"resource\": { \"type\": \"uri\", \"value\": \"http://bnb.data.bl.uk/id/resource/019558259\" }\t, \"title\": { \"type\": \"literal\", \"value\": \"Much ado about nothing\" }\t, \"date\": { \"type\": \"literal\", \"value\": \"2019-11\" }\t, \"place\": { \"type\": \"uri\", \"value\": \"http://sws.geonames.org/6269131/\" }},\n",
      "    { \"resource\": { \"type\": \"uri\", \"value\": \"http://bnb.data.bl.uk/id/resource/019575556\" }\t, \"title\": { \"type\": \"literal\", \"value\": \"The first quarto of the Merry wives of Windsor\" }\t, \"date\": { \"type\": \"literal\", \"value\": \"2019-11\" }\t, \"place\": { \"type\": \"uri\", \"value\": \"http://sws.geonames.org/6269131/\" }},\n",
      "    { \"resource\": { \"type\": \"uri\", \"value\": \"http://bnb.data.bl.uk/id/resource/019576072\" }\t, \"title\": { \"type\": \"literal\", \"value\": \"The complete works of William Shakespeare\" }\t, \"date\": { \"type\": \"literal\", \"value\": \"2019-10\" }\t, \"place\": { \"type\": \"uri\", \"value\": \"http://sws.geonames.org/6252001/\" }},\n",
      "    { \"resource\": { \"type\": \"uri\", \"value\": \"http://bnb.data.bl.uk/id/resource/019765921\" }\t, \"title\": { \"type\": \"literal\", \"value\": \"Arden Shakespeare third series complete works\" }\t, \"date\": { \"type\": \"literal\", \"value\": \"2020-07\" }\t, \"place\": { \"type\": \"uri\", \"value\": \"http://sws.geonames.org/6269131/\" }},\n",
      "    { \"resource\": { \"type\": \"uri\", \"value\": \"http://bnb.data.bl.uk/id/resource/006916080\" }\t, \"title\": { \"type\": \"literal\", \"value\": \"Othello\" }\t, \"date\": { \"type\": \"literal\", \"value\": \"2002-02\" }\t, \"place\": { \"type\": \"uri\", \"value\": \"http://sws.geonames.org/6269131/\" }},\n",
      "    { \"resource\": { \"type\": \"uri\", \"value\": \"http://bnb.data.bl.uk/id/resource/006916081\" }\t, \"title\": { \"type\": \"literal\", \"value\": \"As you like it\" }\t, \"date\": { \"type\": \"literal\", \"value\": \"2002-02\" }\t, \"place\": { \"type\": \"uri\", \"value\": \"http://sws.geonames.org/6269131/\" }},\n",
      "    { \"resource\": { \"type\": \"uri\", \"value\": \"http://bnb.data.bl.uk/id/resource/009710922\" }\t, \"title\": { \"type\": \"literal\", \"value\": \"The wisdom of William Shakespeare\" }\t, \"date\": { \"type\": \"literal\", \"value\": \"2003-05\" }\t, \"place\": { \"type\": \"uri\", \"value\": \"http://sws.geonames.org/6252001/\" }},\n",
      "    { \"resource\": { \"type\": \"uri\", \"value\": \"http://bnb.data.bl.uk/id/resource/013608360\" }\t, \"title\": { \"type\": \"literal\", \"value\": \"As you like it\" }\t, \"date\": { \"type\": \"literal\", \"value\": \"2007-03\" }\t, \"place\": { \"type\": \"uri\", \"value\": \"http://sws.geonames.org/6269131/\" }},\n",
      "    { \"resource\": { \"type\": \"uri\", \"value\": \"http://bnb.data.bl.uk/id/resource/014235652\" }\t, \"title\": { \"type\": \"literal\", \"value\": \"The merchant of Venice\" }\t, \"date\": { \"type\": \"literal\", \"value\": \"2008-02\" }\t, \"place\": { \"type\": \"uri\", \"value\": \"http://sws.geonames.org/6269131/\" }},\n",
      "    { \"resource\": { \"type\": \"uri\", \"value\": \"http://bnb.data.bl.uk/id/resource/014778208\" }\t, \"title\": { \"type\": \"literal\", \"value\": \"Romeo and Juliet : the graphic novel\" }\t, \"date\": { \"type\": \"literal\", \"value\": \"2009-01\" }\t, \"place\": { \"type\": \"uri\", \"value\": \"http://sws.geonames.org/6269131/\" }},\n",
      "    { \"resource\": { \"type\": \"uri\", \"value\": \"http://bnb.data.bl.uk/id/resource/014778209\" }\t, \"title\": { \"type\": \"literal\", \"value\": \"Romeo and Juliet : the graphic novel\" }\t, \"date\": { \"type\": \"literal\", \"value\": \"2009-01\" }\t, \"place\": { \"type\": \"uri\", \"value\": \"http://sws.geonames.org/6269131/\" }},\n",
      "    { \"resource\": { \"type\": \"uri\", \"value\": \"http://bnb.data.bl.uk/id/resource/014778210\" }\t, \"title\": { \"type\": \"literal\", \"value\": \"Romeo and Juliet : the graphic novel\" }\t, \"date\": { \"type\": \"literal\", \"value\": \"2009-01\" }\t, \"place\": { \"type\": \"uri\", \"value\": \"http://sws.geonames.org/6269131/\" }},\n",
      "    { \"resource\": { \"type\": \"uri\", \"value\": \"http://bnb.data.bl.uk/id/resource/014800637\" }\t, \"title\": { \"type\": \"literal\", \"value\": \"Richard III : the graphic novel\" }\t, \"date\": { \"type\": \"literal\", \"value\": \"2009-02\" }\t, \"place\": { \"type\": \"uri\", \"value\": \"http://sws.geonames.org/6269131/\" }},\n",
      "    { \"resource\": { \"type\": \"uri\", \"value\": \"http://bnb.data.bl.uk/id/resource/014800638\" }\t, \"title\": { \"type\": \"literal\", \"value\": \"Richard III : the graphic novel\" }\t, \"date\": { \"type\": \"literal\", \"value\": \"2009-02\" }\t, \"place\": { \"type\": \"uri\", \"value\": \"http://sws.geonames.org/6269131/\" }},\n",
      "    { \"resource\": { \"type\": \"uri\", \"value\": \"http://bnb.data.bl.uk/id/resource/014800639\" }\t, \"title\": { \"type\": \"literal\", \"value\": \"Richard III : the graphic novel\" }\t, \"date\": { \"type\": \"literal\", \"value\": \"2009-02\" }\t, \"place\": { \"type\": \"uri\", \"value\": \"http://sws.geonames.org/6269131/\" }},\n",
      "    { \"resource\": { \"type\": \"uri\", \"value\": \"http://bnb.data.bl.uk/id/resource/015978926\" }\t, \"title\": { \"type\": \"literal\", \"value\": \"The sonnets\" }\t, \"date\": { \"type\": \"literal\", \"value\": \"2012-05\" }\t, \"place\": { \"type\": \"uri\", \"value\": \"http://sws.geonames.org/6269131/\" }},\n",
      "    { \"resource\": { \"type\": \"uri\", \"value\": \"http://bnb.data.bl.uk/id/resource/016048669\" }\t, \"title\": { \"type\": \"literal\", \"value\": \"Shakespeare's plays : the first folio\" }\t, \"date\": { \"type\": \"literal\", \"value\": \"2012-07\" }\t, \"place\": { \"type\": \"uri\", \"value\": \"http://sws.geonames.org/6269131/\" }},\n",
      "    { \"resource\": { \"type\": \"uri\", \"value\": \"http://bnb.data.bl.uk/id/resource/016182883\" }\t, \"title\": { \"type\": \"literal\", \"value\": \"The tempest\" }\t, \"date\": { \"type\": \"literal\", \"value\": \"2013-01\" }\t, \"place\": { \"type\": \"uri\", \"value\": \"http://sws.geonames.org/1269750/\" }},\n",
      "    { \"resource\": { \"type\": \"uri\", \"value\": \"http://bnb.data.bl.uk/id/resource/016813680\" }\t, \"title\": { \"type\": \"literal\", \"value\": \"Hamlet\" }\t, \"date\": { \"type\": \"literal\", \"value\": \"2014-08\" }\t, \"place\": { \"type\": \"uri\", \"value\": \"http://sws.geonames.org/6251999/\" }},\n",
      "    { \"resource\": { \"type\": \"uri\", \"value\": \"http://bnb.data.bl.uk/id/resource/016813681\" }\t, \"title\": { \"type\": \"literal\", \"value\": \"Midsummer night's dream\" }\t, \"date\": { \"type\": \"literal\", \"value\": \"2014-08\" }\t, \"place\": { \"type\": \"uri\", \"value\": \"http://sws.geonames.org/6251999/\" }},\n",
      "    { \"resource\": { \"type\": \"uri\", \"value\": \"http://bnb.data.bl.uk/id/resource/017655566\" }\t, \"title\": { \"type\": \"literal\", \"value\": \"Little book of Shakespeare\" }\t, \"date\": { \"type\": \"literal\", \"value\": \"2016-02\" }\t, \"place\": { \"type\": \"uri\", \"value\": \"http://sws.geonames.org/6269131/\" }},\n",
      "    { \"resource\": { \"type\": \"uri\", \"value\": \"http://bnb.data.bl.uk/id/resource/017656754\" }\t, \"title\": { \"type\": \"literal\", \"value\": \"The winter's tale\" }\t, \"date\": { \"type\": \"literal\", \"value\": \"2015-11\" }\t, \"place\": { \"type\": \"uri\", \"value\": \"http://sws.geonames.org/6269131/\" }},\n",
      "    { \"resource\": { \"type\": \"uri\", \"value\": \"http://bnb.data.bl.uk/id/resource/018275869\" }\t, \"title\": { \"type\": \"literal\", \"value\": \"Richard II\" }\t, \"date\": { \"type\": \"literal\", \"value\": \"2017-03\" }\t, \"place\": { \"type\": \"uri\", \"value\": \"http://sws.geonames.org/6252001/\" }},\n",
      "    { \"resource\": { \"type\": \"uri\", \"value\": \"http://bnb.data.bl.uk/id/resource/018298302\" }\t, \"title\": { \"type\": \"literal\", \"value\": \"Much ado about nothing\" }\t, \"date\": { \"type\": \"literal\", \"value\": \"2017-04\" }\t, \"place\": { \"type\": \"uri\", \"value\": \"http://sws.geonames.org/6252001/\" }},\n",
      "    { \"resource\": { \"type\": \"uri\", \"value\": \"http://bnb.data.bl.uk/id/resource/018298303\" }\t, \"title\": { \"type\": \"literal\", \"value\": \"Titus Andronicus\" }\t, \"date\": { \"type\": \"literal\", \"value\": \"2017-04\" }\t, \"place\": { \"type\": \"uri\", \"value\": \"http://sws.geonames.org/6252001/\" }},\n",
      "    { \"resource\": { \"type\": \"uri\", \"value\": \"http://bnb.data.bl.uk/id/resource/018298304\" }\t, \"title\": { \"type\": \"literal\", \"value\": \"Henry IV, part 1\" }\t, \"date\": { \"type\": \"literal\", \"value\": \"2017-04\" }\t, \"place\": { \"type\": \"uri\", \"value\": \"http://sws.geonames.org/6252001/\" }},\n",
      "    { \"resource\": { \"type\": \"uri\", \"value\": \"http://bnb.data.bl.uk/id/resource/018492926\" }\t, \"title\": { \"type\": \"literal\", \"value\": \"The sonnets\" }\t, \"date\": { \"type\": \"literal\", \"value\": \"2017-11\" }\t, \"place\": { \"type\": \"uri\", \"value\": \"http://sws.geonames.org/6252001/\" }},\n",
      "    { \"resource\": { \"type\": \"uri\", \"value\": \"http://bnb.data.bl.uk/id/resource/018492927\" }\t, \"title\": { \"type\": \"literal\", \"value\": \"Antony and Cleopatra\" }\t, \"date\": { \"type\": \"literal\", \"value\": \"2017-11\" }\t, \"place\": { \"type\": \"uri\", \"value\": \"http://sws.geonames.org/6252001/\" }},\n",
      "    { \"resource\": { \"type\": \"uri\", \"value\": \"http://bnb.data.bl.uk/id/resource/018492928\" }\t, \"title\": { \"type\": \"literal\", \"value\": \"The winter's tale\" }\t, \"date\": { \"type\": \"literal\", \"value\": \"2017-11\" }\t, \"place\": { \"type\": \"uri\", \"value\": \"http://sws.geonames.org/6252001/\" }},\n",
      "    { \"resource\": { \"type\": \"uri\", \"value\": \"http://bnb.data.bl.uk/id/resource/018492929\" }\t, \"title\": { \"type\": \"literal\", \"value\": \"Troilus and Cressida\" }\t, \"date\": { \"type\": \"literal\", \"value\": \"2017-11\" }\t, \"place\": { \"type\": \"uri\", \"value\": \"http://sws.geonames.org/6252001/\" }},\n",
      "    { \"resource\": { \"type\": \"uri\", \"value\": \"http://bnb.data.bl.uk/id/resource/018492930\" }\t, \"title\": { \"type\": \"literal\", \"value\": \"Henry IV. Part 2\" }\t, \"date\": { \"type\": \"literal\", \"value\": \"2017-11\" }\t, \"place\": { \"type\": \"uri\", \"value\": \"http://sws.geonames.org/6252001/\" }},\n",
      "    { \"resource\": { \"type\": \"uri\", \"value\": \"http://bnb.data.bl.uk/id/resource/018543756\" }\t, \"title\": { \"type\": \"literal\", \"value\": \"Henry V - the quarto\" }\t, \"date\": { \"type\": \"literal\", \"value\": \"2017-09\" }\t, \"place\": { \"type\": \"uri\", \"value\": \"http://sws.geonames.org/6269131/\" }},\n",
      "    { \"resource\": { \"type\": \"uri\", \"value\": \"http://bnb.data.bl.uk/id/resource/018543757\" }\t, \"title\": { \"type\": \"literal\", \"value\": \"Hamlet - the first quarto\" }\t, \"date\": { \"type\": \"literal\", \"value\": \"2017-09\" }\t, \"place\": { \"type\": \"uri\", \"value\": \"http://sws.geonames.org/6269131/\" }},\n",
      "    { \"resource\": { \"type\": \"uri\", \"value\": \"http://bnb.data.bl.uk/id/resource/018543758\" }\t, \"title\": { \"type\": \"literal\", \"value\": \"The tragedie of Othello, the moor of Venice\" }\t, \"date\": { \"type\": \"literal\", \"value\": \"2017-09\" }\t, \"place\": { \"type\": \"uri\", \"value\": \"http://sws.geonames.org/6269131/\" }},\n",
      "    { \"resource\": { \"type\": \"uri\", \"value\": \"http://bnb.data.bl.uk/id/resource/018973208\" }\t, \"title\": { \"type\": \"literal\", \"value\": \"The comedy of errors\" }\t, \"date\": { \"type\": \"literal\", \"value\": \"2018-09\" }\t, \"place\": { \"type\": \"uri\", \"value\": \"http://sws.geonames.org/1269750/\" }},\n",
      "    { \"resource\": { \"type\": \"uri\", \"value\": \"http://bnb.data.bl.uk/id/resource/017992921\" }\t, \"title\": { \"type\": \"literal\", \"value\": \"Macbeth\" }\t, \"date\": { \"type\": \"literal\", \"value\": \"2016-08\" }\t, \"place\": { \"type\": \"uri\", \"value\": \"http://sws.geonames.org/6252001/\" }},\n",
      "    { \"resource\": { \"type\": \"uri\", \"value\": \"http://bnb.data.bl.uk/id/resource/018001169\" }\t, \"title\": { \"type\": \"literal\", \"value\": \"Shakespeare's tragedies\" }\t, \"date\": { \"type\": \"literal\", \"value\": \"2016-09\" }\t, \"place\": { \"type\": \"uri\", \"value\": \"http://sws.geonames.org/6269131/\" }},\n",
      "    { \"resource\": { \"type\": \"uri\", \"value\": \"http://bnb.data.bl.uk/id/resource/018339341\" }\t, \"title\": { \"type\": \"literal\", \"value\": \"Shakespeare's sonnets\" }\t, \"date\": { \"type\": \"literal\", \"value\": \"2017-07\" }\t, \"place\": { \"type\": \"uri\", \"value\": \"http://sws.geonames.org/6269131/\" }},\n",
      "    { \"resource\": { \"type\": \"uri\", \"value\": \"http://bnb.data.bl.uk/id/resource/018646844\" }\t, \"title\": { \"type\": \"literal\", \"value\": \"Much ado about nothing\" }\t, \"date\": { \"type\": \"literal\", \"value\": \"2018-01\" }\t, \"place\": { \"type\": \"uri\", \"value\": \"http://sws.geonames.org/6269131/\" }},\n",
      "    { \"resource\": { \"type\": \"uri\", \"value\": \"http://bnb.data.bl.uk/id/resource/018651788\" }\t, \"title\": { \"type\": \"literal\", \"value\": \"Measure for measure\" }\t, \"date\": { \"type\": \"literal\", \"value\": \"2017-12\" }\t, \"place\": { \"type\": \"uri\", \"value\": \"http://sws.geonames.org/6252001/\" }},\n",
      "    { \"resource\": { \"type\": \"uri\", \"value\": \"http://bnb.data.bl.uk/id/resource/018651789\" }\t, \"title\": { \"type\": \"literal\", \"value\": \"Richard II\" }\t, \"date\": { \"type\": \"literal\", \"value\": \"2017-12\" }\t, \"place\": { \"type\": \"uri\", \"value\": \"http://sws.geonames.org/6252001/\" }},\n",
      "    { \"resource\": { \"type\": \"uri\", \"value\": \"http://bnb.data.bl.uk/id/resource/018651790\" }\t, \"title\": { \"type\": \"literal\", \"value\": \"The winter's tale\" }\t, \"date\": { \"type\": \"literal\", \"value\": \"2017-12\" }\t, \"place\": { \"type\": \"uri\", \"value\": \"http://sws.geonames.org/6252001/\" }},\n",
      "    { \"resource\": { \"type\": \"uri\", \"value\": \"http://bnb.data.bl.uk/id/resource/018870237\" }\t, \"title\": { \"type\": \"literal\", \"value\": \"The merchant of Venice\" }\t, \"date\": { \"type\": \"literal\", \"value\": \"2018-05\" }\t, \"place\": { \"type\": \"uri\", \"value\": \"http://sws.geonames.org/6269131/\" }},\n",
      "    { \"resource\": { \"type\": \"uri\", \"value\": \"http://bnb.data.bl.uk/id/resource/019114765\" }\t, \"title\": { \"type\": \"literal\", \"value\": \"Macbeth\" }\t, \"date\": { \"type\": \"literal\", \"value\": \"2019-01\" }\t, \"place\": { \"type\": \"uri\", \"value\": \"http://sws.geonames.org/6269131/\" }},\n",
      "    { \"resource\": { \"type\": \"uri\", \"value\": \"http://bnb.data.bl.uk/id/resource/019114766\" }\t, \"title\": { \"type\": \"literal\", \"value\": \"Romeo and Juliet\" }\t, \"date\": { \"type\": \"literal\", \"value\": \"2019-01\" }\t, \"place\": { \"type\": \"uri\", \"value\": \"http://sws.geonames.org/6269131/\" }},\n",
      "    { \"resource\": { \"type\": \"uri\", \"value\": \"http://bnb.data.bl.uk/id/resource/019244120\" }\t, \"title\": { \"type\": \"literal\", \"value\": \"William Shakespeare's much ado about mean girls\" }\t, \"date\": { \"type\": \"literal\", \"value\": \"2019-04\" }\t, \"place\": { \"type\": \"uri\", \"value\": \"http://sws.geonames.org/6252001/\" }},\n",
      "    { \"resource\": { \"type\": \"uri\", \"value\": \"http://bnb.data.bl.uk/id/resource/018768129\" }\t, \"title\": { \"type\": \"literal\", \"value\": \"The complete works of Shakespeare. Volume 3, The tragedies\" }\t, \"date\": { \"type\": \"literal\", \"value\": \"2018-04\" }\t, \"place\": { \"type\": \"uri\", \"value\": \"http://sws.geonames.org/6269131/\" }},\n",
      "    { \"resource\": { \"type\": \"uri\", \"value\": \"http://bnb.data.bl.uk/id/resource/018768130\" }\t, \"title\": { \"type\": \"literal\", \"value\": \"Shakespeare : the complete works. Volume four, Poems & sonnets\" }\t, \"date\": { \"type\": \"literal\", \"value\": \"2018-04\" }\t, \"place\": { \"type\": \"uri\", \"value\": \"http://sws.geonames.org/6269131/\" }},\n",
      "    { \"resource\": { \"type\": \"uri\", \"value\": \"http://bnb.data.bl.uk/id/resource/018768131\" }\t, \"title\": { \"type\": \"literal\", \"value\": \"Shakespeare : the complete works. Volume 1, The histories\" }\t, \"date\": { \"type\": \"literal\", \"value\": \"2018-04\" }\t, \"place\": { \"type\": \"uri\", \"value\": \"http://sws.geonames.org/6269131/\" }},\n",
      "    { \"resource\": { \"type\": \"uri\", \"value\": \"http://bnb.data.bl.uk/id/resource/018768132\" }\t, \"title\": { \"type\": \"literal\", \"value\": \"Shakespeare : the complete works. Volume 2, The comedies\" }\t, \"date\": { \"type\": \"literal\", \"value\": \"2018-04\" }\t, \"place\": { \"type\": \"uri\", \"value\": \"http://sws.geonames.org/6269131/\" }},\n",
      "    { \"resource\": { \"type\": \"uri\", \"value\": \"http://bnb.data.bl.uk/id/resource/018785329\" }\t, \"title\": { \"type\": \"literal\", \"value\": \"Shakespeare's The tempest : a graphic edition with CSEC study guide\" }\t, \"date\": { \"type\": \"literal\", \"value\": \"2018-05\" }\t, \"place\": { \"type\": \"uri\", \"value\": \"http://sws.geonames.org/6269131/\" }},\n",
      "    { \"resource\": { \"type\": \"uri\", \"value\": \"http://bnb.data.bl.uk/id/resource/019033217\" }\t, \"title\": { \"type\": \"literal\", \"value\": \"Much ado about nothing\" }\t, \"date\": { \"type\": \"literal\", \"value\": \"2018-08\" }\t, \"place\": { \"type\": \"uri\", \"value\": \"http://sws.geonames.org/6269131/\" }},\n",
      "    { \"resource\": { \"type\": \"uri\", \"value\": \"http://bnb.data.bl.uk/id/resource/019039939\" }\t, \"title\": { \"type\": \"literal\", \"value\": \"Tales from Shakespeare\" }\t, \"date\": { \"type\": \"literal\", \"value\": \"2018-11\" }\t, \"place\": { \"type\": \"uri\", \"value\": \"http://sws.geonames.org/6252001/\" }},\n",
      "    { \"resource\": { \"type\": \"uri\", \"value\": \"http://bnb.data.bl.uk/id/resource/019040403\" }\t, \"title\": { \"type\": \"literal\", \"value\": \"Beautiful stories from Shakespeare for children\" }\t, \"date\": { \"type\": \"literal\", \"value\": \"2018-11\" }\t, \"place\": { \"type\": \"uri\", \"value\": \"http://sws.geonames.org/6252001/\" }},\n",
      "    { \"resource\": { \"type\": \"uri\", \"value\": \"http://bnb.data.bl.uk/id/resource/019040979\" }\t, \"title\": { \"type\": \"literal\", \"value\": \"Queen Margaret\" }\t, \"date\": { \"type\": \"literal\", \"value\": \"2018-09\" }\t, \"place\": { \"type\": \"uri\", \"value\": \"http://sws.geonames.org/6269131/\" }},\n",
      "    { \"resource\": { \"type\": \"uri\", \"value\": \"http://bnb.data.bl.uk/id/resource/019041710\" }\t, \"title\": { \"type\": \"literal\", \"value\": \"20 Shakespeare children's stories : the complete collection\" }\t, \"date\": { \"type\": \"literal\", \"value\": \"2018-08\" }\t, \"place\": { \"type\": \"uri\", \"value\": \"http://sws.geonames.org/6269131/\" }},\n",
      "    { \"resource\": { \"type\": \"uri\", \"value\": \"http://bnb.data.bl.uk/id/resource/019041961\" }\t, \"title\": { \"type\": \"literal\", \"value\": \"The merry wives of Windsor\" }\t, \"date\": { \"type\": \"literal\", \"value\": \"2018-08\" }\t, \"place\": { \"type\": \"uri\", \"value\": \"http://sws.geonames.org/2921044/\" }},\n",
      "    { \"resource\": { \"type\": \"uri\", \"value\": \"http://bnb.data.bl.uk/id/resource/019041962\" }\t, \"title\": { \"type\": \"literal\", \"value\": \"The merry wives of Windsor\" }\t, \"date\": { \"type\": \"literal\", \"value\": \"2018-08\" }\t, \"place\": { \"type\": \"uri\", \"value\": \"http://sws.geonames.org/2921044/\" }},\n",
      "    { \"resource\": { \"type\": \"uri\", \"value\": \"http://bnb.data.bl.uk/id/resource/019041963\" }\t, \"title\": { \"type\": \"literal\", \"value\": \"King John\" }\t, \"date\": { \"type\": \"literal\", \"value\": \"2018-08\" }\t, \"place\": { \"type\": \"uri\", \"value\": \"http://sws.geonames.org/2921044/\" }},\n",
      "    { \"resource\": { \"type\": \"uri\", \"value\": \"http://bnb.data.bl.uk/id/resource/019041964\" }\t, \"title\": { \"type\": \"literal\", \"value\": \"Othello\" }\t, \"date\": { \"type\": \"literal\", \"value\": \"2018-08\" }\t, \"place\": { \"type\": \"uri\", \"value\": \"http://sws.geonames.org/2921044/\" }},\n",
      "    { \"resource\": { \"type\": \"uri\", \"value\": \"http://bnb.data.bl.uk/id/resource/019041965\" }\t, \"title\": { \"type\": \"literal\", \"value\": \"Othello\" }\t, \"date\": { \"type\": \"literal\", \"value\": \"2018-08\" }\t, \"place\": { \"type\": \"uri\", \"value\": \"http://sws.geonames.org/2921044/\" }},\n",
      "    { \"resource\": { \"type\": \"uri\", \"value\": \"http://bnb.data.bl.uk/id/resource/019041966\" }\t, \"title\": { \"type\": \"literal\", \"value\": \"Winter's tale\" }\t, \"date\": { \"type\": \"literal\", \"value\": \"2018-08\" }\t, \"place\": { \"type\": \"uri\", \"value\": \"http://sws.geonames.org/2921044/\" }},\n",
      "    { \"resource\": { \"type\": \"uri\", \"value\": \"http://bnb.data.bl.uk/id/resource/019041967\" }\t, \"title\": { \"type\": \"literal\", \"value\": \"Winter's tale\" }\t, \"date\": { \"type\": \"literal\", \"value\": \"2018-08\" }\t, \"place\": { \"type\": \"uri\", \"value\": \"http://sws.geonames.org/2921044/\" }},\n",
      "    { \"resource\": { \"type\": \"uri\", \"value\": \"http://bnb.data.bl.uk/id/resource/019201544\" }\t, \"title\": { \"type\": \"literal\", \"value\": \"Hamlet\" }\t, \"date\": { \"type\": \"literal\", \"value\": \"2019-01\" }\t, \"place\": { \"type\": \"uri\", \"value\": \"http://sws.geonames.org/6252001/\" }},\n",
      "    { \"resource\": { \"type\": \"uri\", \"value\": \"http://bnb.data.bl.uk/id/resource/019439765\" }\t, \"title\": { \"type\": \"literal\", \"value\": \"Shakespeare's sonnets\" }\t, \"date\": { \"type\": \"literal\", \"value\": \"2019-06\" }\t, \"place\": { \"type\": \"uri\", \"value\": \"http://sws.geonames.org/6252001/\" }},\n",
      "    { \"resource\": { \"type\": \"uri\", \"value\": \"http://bnb.data.bl.uk/id/resource/013321292\" }\t, \"title\": { \"type\": \"literal\", \"value\": \"Othello\" }\t, \"date\": { \"type\": \"literal\", \"value\": \"2006-01\" }\t, \"place\": { \"type\": \"uri\", \"value\": \"http://sws.geonames.org/6252001/\" }},\n",
      "    { \"resource\": { \"type\": \"uri\", \"value\": \"http://bnb.data.bl.uk/id/resource/015890186\" }\t, \"title\": { \"type\": \"literal\", \"value\": \"Best loved plays of Shakespeare\" }\t, \"date\": { \"type\": \"literal\", \"value\": \"2012-01\" }\t, \"place\": { \"type\": \"uri\", \"value\": \"http://sws.geonames.org/6269131/\" }},\n",
      "    { \"resource\": { \"type\": \"uri\", \"value\": \"http://bnb.data.bl.uk/id/resource/019665745\" }\t, \"title\": { \"type\": \"literal\", \"value\": \"Power\" }\t, \"date\": { \"type\": \"literal\", \"value\": \"2020-03\" }\t, \"place\": { \"type\": \"uri\", \"value\": \"http://sws.geonames.org/6269131/\" }},\n",
      "    { \"resource\": { \"type\": \"uri\", \"value\": \"http://bnb.data.bl.uk/id/resource/019702130\" }\t, \"title\": { \"type\": \"literal\", \"value\": \"The tragedies\" }\t, \"date\": { \"type\": \"literal\", \"value\": \"2020-01\" }\t, \"place\": { \"type\": \"uri\", \"value\": \"http://sws.geonames.org/6269131/\" }},\n",
      "    { \"resource\": { \"type\": \"uri\", \"value\": \"http://bnb.data.bl.uk/id/resource/019702131\" }\t, \"title\": { \"type\": \"literal\", \"value\": \"The tragicomedies\" }\t, \"date\": { \"type\": \"literal\", \"value\": \"2020-01\" }\t, \"place\": { \"type\": \"uri\", \"value\": \"http://sws.geonames.org/6269131/\" }},\n",
      "    { \"resource\": { \"type\": \"uri\", \"value\": \"http://bnb.data.bl.uk/id/resource/019755998\" }\t, \"title\": { \"type\": \"literal\", \"value\": \"A midsummer night's dream\" }\t, \"date\": { \"type\": \"literal\", \"value\": \"2020-06\" }\t, \"place\": { \"type\": \"uri\", \"value\": \"http://sws.geonames.org/6269131/\" }},\n",
      "    { \"resource\": { \"type\": \"uri\", \"value\": \"http://bnb.data.bl.uk/id/resource/019787205\" }\t, \"title\": { \"type\": \"literal\", \"value\": \"Twelfth night\" }\t, \"date\": { \"type\": \"literal\", \"value\": \"2020-04\" }\t, \"place\": { \"type\": \"uri\", \"value\": \"http://sws.geonames.org/6269131/\" }},\n",
      "    { \"resource\": { \"type\": \"uri\", \"value\": \"http://bnb.data.bl.uk/id/resource/019736523\" }\t, \"title\": { \"type\": \"literal\", \"value\": \"William Shakespeare comedies\" }\t, \"date\": { \"type\": \"literal\", \"value\": \"2020-05\" }\t, \"place\": { \"type\": \"uri\", \"value\": \"http://sws.geonames.org/6252001/\" }},\n",
      "    { \"resource\": { \"type\": \"uri\", \"value\": \"http://bnb.data.bl.uk/id/resource/019736524\" }\t, \"title\": { \"type\": \"literal\", \"value\": \"William Shakespeare tragedies\" }\t, \"date\": { \"type\": \"literal\", \"value\": \"2020-05\" }\t, \"place\": { \"type\": \"uri\", \"value\": \"http://sws.geonames.org/6252001/\" }},\n",
      "    { \"resource\": { \"type\": \"uri\", \"value\": \"http://bnb.data.bl.uk/id/resource/019806992\" }\t, \"title\": { \"type\": \"literal\", \"value\": \"The taming of the shrew\" }\t, \"date\": { \"type\": \"literal\", \"value\": \"2020-05\" }\t, \"place\": { \"type\": \"uri\", \"value\": \"http://sws.geonames.org/6252001/\" }},\n",
      "    { \"resource\": { \"type\": \"uri\", \"value\": \"http://bnb.data.bl.uk/id/resource/019806993\" }\t, \"title\": { \"type\": \"literal\", \"value\": \"The merchant of Venice\" }\t, \"date\": { \"type\": \"literal\", \"value\": \"2020-05\" }\t, \"place\": { \"type\": \"uri\", \"value\": \"http://sws.geonames.org/6252001/\" }},\n",
      "    { \"resource\": { \"type\": \"uri\", \"value\": \"http://bnb.data.bl.uk/id/resource/019806994\" }\t, \"title\": { \"type\": \"literal\", \"value\": \"Sonnets\" }\t, \"date\": { \"type\": \"literal\", \"value\": \"2020-05\" }\t, \"place\": { \"type\": \"uri\", \"value\": \"http://sws.geonames.org/6252001/\" }},\n",
      "    { \"resource\": { \"type\": \"uri\", \"value\": \"http://bnb.data.bl.uk/id/resource/019806995\" }\t, \"title\": { \"type\": \"literal\", \"value\": \"Twelfth night\" }\t, \"date\": { \"type\": \"literal\", \"value\": \"2020-05\" }\t, \"place\": { \"type\": \"uri\", \"value\": \"http://sws.geonames.org/6252001/\" }},\n",
      "    { \"resource\": { \"type\": \"uri\", \"value\": \"http://bnb.data.bl.uk/id/resource/019806996\" }\t, \"title\": { \"type\": \"literal\", \"value\": \"Othello\" }\t, \"date\": { \"type\": \"literal\", \"value\": \"2020-05\" }\t, \"place\": { \"type\": \"uri\", \"value\": \"http://sws.geonames.org/6252001/\" }} ] } }\n"
     ]
    }
   ],
   "source": [
    "url = 'https://bnb.data.bl.uk/sparql'\n",
    "query = \"\"\"\n",
    "PREFIX bibo: <http://purl.org/ontology/bibo/>\n",
    "PREFIX bio: <http://purl.org/vocab/bio/0.1/>\n",
    "PREFIX blt: <http://www.bl.uk/schemas/bibliographic/blterms#>\n",
    "PREFIX dct: <http://purl.org/dc/terms/>\n",
    "PREFIX event: <http://purl.org/NET/c4dm/event.owl#>\n",
    "PREFIX foaf: <http://xmlns.com/foaf/0.1/>\n",
    "PREFIX geo: <http://www.w3.org/2003/01/geo/wgs84_pos#>\n",
    "PREFIX isbd: <http://iflastandards.info/ns/isbd/elements/>\n",
    "PREFIX org: <http://www.w3.org/ns/org#>\n",
    "PREFIX owl: <http://www.w3.org/2002/07/owl#>\n",
    "PREFIX rdau: <http://rdaregistry.info/Elements/u/>\n",
    "PREFIX madsrdf: <http://www.loc.gov/mads/rdf/v1#>\n",
    "PREFIX rdf: <http://www.w3.org/1999/02/22-rdf-syntax-ns#>\n",
    "PREFIX rdfs: <http://www.w3.org/2000/01/rdf-schema#>\n",
    "PREFIX skos: <http://www.w3.org/2004/02/skos/core#>\n",
    "PREFIX void: <http://rdfs.org/ns/void#>\n",
    "PREFIX xsd: <http://www.w3.org/2001/XMLSchema#>\n",
    "PREFIX umbel: <http://umbel.org/umbel#>\n",
    "PREFIX schema: <http://schema.org/>\n",
    "PREFIX c4dm: <http://purl.org/NET/c4dm/event.owl#>\n",
    "\n",
    "SELECT DISTINCT ?resource ?title ?date ?place WHERE {{\n",
    "    graph <http://bnb.data.bl.uk/id/graph/BNBCIP> {{\n",
    "      ?resource ?p <{0}> ;\n",
    "         dct:title ?title ;\n",
    "         schema:datePublished ?date .\n",
    "      OPTIONAL {{\n",
    "          ?resource blt:projectedPublication ?publication .\n",
    "          ?publication c4dm:place ?place .\n",
    "          FILTER regex(?place, \"geonames\", \"i\")        \n",
    "      }}\n",
    "      OPTIONAL {{\n",
    "          ?resource blt:publication ?publication .\n",
    "          ?publication c4dm:place ?place .\n",
    "          FILTER regex(?place, \"geonames\", \"i\")        \n",
    "      }}\n",
    "    }}\n",
    "}} LIMIT 500\n",
    "\"\"\"\n",
    "\n",
    "query = query.format(bnbIdAuthor)\n",
    "\n",
    "# use json as a result\n",
    "headers = {'Accept': 'application/sparql-results+json'}\n",
    "r = requests.get(url, params = {'format': 'application/sparql-results+json', 'query': query}, headers=headers)\n",
    "print('Elements retrieved!')\n",
    "print(r.text)"
   ]
  },
  {
   "cell_type": "markdown",
   "metadata": {},
   "source": [
    "## Save as a CSV "
   ]
  },
  {
   "cell_type": "code",
   "execution_count": 4,
   "metadata": {},
   "outputs": [],
   "source": [
    "bnbdata = json.loads(r.text)\n",
    "\n",
    "with open('bnb_records.csv', 'w', newline='') as file:\n",
    "    csv_out = csv.writer(file, delimiter = ',', quotechar = '\"', quoting = csv.QUOTE_MINIMAL)    \n",
    "\n",
    "    #csv_out = csv.writer(open('bnb_records.csv', 'w'), delimiter = ',', quotechar = '\"', quoting = csv.QUOTE_MINIMAL)\n",
    "    csv_out.writerow(['resource', 'place', 'title', 'date'])\n",
    "\n",
    "    for i in bnbdata['results']['bindings']:\n",
    "        resource = place = title = date =''\n",
    "\n",
    "        resource = i['resource']['value']\n",
    "        #if \"place\" in i:\n",
    "        place = i['place']['value']\n",
    "        title = i['title']['value']\n",
    "        date = i['date']['value']\n",
    "\n",
    "        csv_out.writerow([resource,place,title,date])"
   ]
  },
  {
   "cell_type": "markdown",
   "metadata": {},
   "source": [
    "## Exploring the data"
   ]
  },
  {
   "cell_type": "code",
   "execution_count": 5,
   "metadata": {},
   "outputs": [],
   "source": [
    "# Load the CSV file from GitHub.\n",
    "# This puts the data in a Pandas DataFrame\n",
    "df = pd.read_csv('bnb_records.csv')"
   ]
  },
  {
   "cell_type": "code",
   "execution_count": 6,
   "metadata": {},
   "outputs": [
    {
     "data": {
      "text/html": [
       "<div>\n",
       "<style scoped>\n",
       "    .dataframe tbody tr th:only-of-type {\n",
       "        vertical-align: middle;\n",
       "    }\n",
       "\n",
       "    .dataframe tbody tr th {\n",
       "        vertical-align: top;\n",
       "    }\n",
       "\n",
       "    .dataframe thead th {\n",
       "        text-align: right;\n",
       "    }\n",
       "</style>\n",
       "<table border=\"1\" class=\"dataframe\">\n",
       "  <thead>\n",
       "    <tr style=\"text-align: right;\">\n",
       "      <th></th>\n",
       "      <th>resource</th>\n",
       "      <th>place</th>\n",
       "      <th>title</th>\n",
       "      <th>date</th>\n",
       "    </tr>\n",
       "  </thead>\n",
       "  <tbody>\n",
       "    <tr>\n",
       "      <th>0</th>\n",
       "      <td>http://bnb.data.bl.uk/id/resource/013310275</td>\n",
       "      <td>http://sws.geonames.org/6269131/</td>\n",
       "      <td>Macbeth : teachit KS3 interactive pack</td>\n",
       "      <td>2006-01</td>\n",
       "    </tr>\n",
       "    <tr>\n",
       "      <th>1</th>\n",
       "      <td>http://bnb.data.bl.uk/id/resource/013310276</td>\n",
       "      <td>http://sws.geonames.org/6269131/</td>\n",
       "      <td>Much ado about nothing : teachit KS3 interacti...</td>\n",
       "      <td>2006-01</td>\n",
       "    </tr>\n",
       "    <tr>\n",
       "      <th>2</th>\n",
       "      <td>http://bnb.data.bl.uk/id/resource/013315368</td>\n",
       "      <td>http://sws.geonames.org/6269131/</td>\n",
       "      <td>Hamlet</td>\n",
       "      <td>2006-01</td>\n",
       "    </tr>\n",
       "    <tr>\n",
       "      <th>3</th>\n",
       "      <td>http://bnb.data.bl.uk/id/resource/019599478</td>\n",
       "      <td>http://sws.geonames.org/6269131/</td>\n",
       "      <td>Twelfth night</td>\n",
       "      <td>2020-01</td>\n",
       "    </tr>\n",
       "    <tr>\n",
       "      <th>4</th>\n",
       "      <td>http://bnb.data.bl.uk/id/resource/019599479</td>\n",
       "      <td>http://sws.geonames.org/6269131/</td>\n",
       "      <td>The tempest : the alexander text</td>\n",
       "      <td>2019-11</td>\n",
       "    </tr>\n",
       "    <tr>\n",
       "      <th>...</th>\n",
       "      <td>...</td>\n",
       "      <td>...</td>\n",
       "      <td>...</td>\n",
       "      <td>...</td>\n",
       "    </tr>\n",
       "    <tr>\n",
       "      <th>135</th>\n",
       "      <td>http://bnb.data.bl.uk/id/resource/019806992</td>\n",
       "      <td>http://sws.geonames.org/6252001/</td>\n",
       "      <td>The taming of the shrew</td>\n",
       "      <td>2020-05</td>\n",
       "    </tr>\n",
       "    <tr>\n",
       "      <th>136</th>\n",
       "      <td>http://bnb.data.bl.uk/id/resource/019806993</td>\n",
       "      <td>http://sws.geonames.org/6252001/</td>\n",
       "      <td>The merchant of Venice</td>\n",
       "      <td>2020-05</td>\n",
       "    </tr>\n",
       "    <tr>\n",
       "      <th>137</th>\n",
       "      <td>http://bnb.data.bl.uk/id/resource/019806994</td>\n",
       "      <td>http://sws.geonames.org/6252001/</td>\n",
       "      <td>Sonnets</td>\n",
       "      <td>2020-05</td>\n",
       "    </tr>\n",
       "    <tr>\n",
       "      <th>138</th>\n",
       "      <td>http://bnb.data.bl.uk/id/resource/019806995</td>\n",
       "      <td>http://sws.geonames.org/6252001/</td>\n",
       "      <td>Twelfth night</td>\n",
       "      <td>2020-05</td>\n",
       "    </tr>\n",
       "    <tr>\n",
       "      <th>139</th>\n",
       "      <td>http://bnb.data.bl.uk/id/resource/019806996</td>\n",
       "      <td>http://sws.geonames.org/6252001/</td>\n",
       "      <td>Othello</td>\n",
       "      <td>2020-05</td>\n",
       "    </tr>\n",
       "  </tbody>\n",
       "</table>\n",
       "<p>140 rows × 4 columns</p>\n",
       "</div>"
      ],
      "text/plain": [
       "                                        resource  \\\n",
       "0    http://bnb.data.bl.uk/id/resource/013310275   \n",
       "1    http://bnb.data.bl.uk/id/resource/013310276   \n",
       "2    http://bnb.data.bl.uk/id/resource/013315368   \n",
       "3    http://bnb.data.bl.uk/id/resource/019599478   \n",
       "4    http://bnb.data.bl.uk/id/resource/019599479   \n",
       "..                                           ...   \n",
       "135  http://bnb.data.bl.uk/id/resource/019806992   \n",
       "136  http://bnb.data.bl.uk/id/resource/019806993   \n",
       "137  http://bnb.data.bl.uk/id/resource/019806994   \n",
       "138  http://bnb.data.bl.uk/id/resource/019806995   \n",
       "139  http://bnb.data.bl.uk/id/resource/019806996   \n",
       "\n",
       "                                place  \\\n",
       "0    http://sws.geonames.org/6269131/   \n",
       "1    http://sws.geonames.org/6269131/   \n",
       "2    http://sws.geonames.org/6269131/   \n",
       "3    http://sws.geonames.org/6269131/   \n",
       "4    http://sws.geonames.org/6269131/   \n",
       "..                                ...   \n",
       "135  http://sws.geonames.org/6252001/   \n",
       "136  http://sws.geonames.org/6252001/   \n",
       "137  http://sws.geonames.org/6252001/   \n",
       "138  http://sws.geonames.org/6252001/   \n",
       "139  http://sws.geonames.org/6252001/   \n",
       "\n",
       "                                                 title     date  \n",
       "0               Macbeth : teachit KS3 interactive pack  2006-01  \n",
       "1    Much ado about nothing : teachit KS3 interacti...  2006-01  \n",
       "2                                               Hamlet  2006-01  \n",
       "3                                        Twelfth night  2020-01  \n",
       "4                     The tempest : the alexander text  2019-11  \n",
       "..                                                 ...      ...  \n",
       "135                            The taming of the shrew  2020-05  \n",
       "136                             The merchant of Venice  2020-05  \n",
       "137                                            Sonnets  2020-05  \n",
       "138                                      Twelfth night  2020-05  \n",
       "139                                            Othello  2020-05  \n",
       "\n",
       "[140 rows x 4 columns]"
      ]
     },
     "execution_count": 6,
     "metadata": {},
     "output_type": "execute_result"
    }
   ],
   "source": [
    "df"
   ]
  },
  {
   "cell_type": "markdown",
   "metadata": {},
   "source": [
    "## How many items?"
   ]
  },
  {
   "cell_type": "code",
   "execution_count": 7,
   "metadata": {},
   "outputs": [
    {
     "data": {
      "text/plain": [
       "140"
      ]
     },
     "execution_count": 7,
     "metadata": {},
     "output_type": "execute_result"
    }
   ],
   "source": [
    "# How many items?\n",
    "len(df)"
   ]
  },
  {
   "cell_type": "markdown",
   "metadata": {},
   "source": [
    "### Let's count the number of resources per place"
   ]
  },
  {
   "cell_type": "code",
   "execution_count": 13,
   "metadata": {},
   "outputs": [],
   "source": [
    "places_by_number = df.groupby(\"place\")[\"resource\"].count()"
   ]
  },
  {
   "cell_type": "code",
   "execution_count": 14,
   "metadata": {},
   "outputs": [
    {
     "data": {
      "text/plain": [
       "place\n",
       "http://sws.geonames.org/1269750/     2\n",
       "http://sws.geonames.org/2921044/     9\n",
       "http://sws.geonames.org/6251999/     2\n",
       "http://sws.geonames.org/6252001/    42\n",
       "http://sws.geonames.org/6269131/    85\n",
       "Name: resource, dtype: int64"
      ]
     },
     "execution_count": 14,
     "metadata": {},
     "output_type": "execute_result"
    }
   ],
   "source": [
    "places_by_number"
   ]
  },
  {
   "cell_type": "code",
   "execution_count": 57,
   "metadata": {},
   "outputs": [],
   "source": [
    "### We can access the count of each place"
   ]
  },
  {
   "cell_type": "code",
   "execution_count": 58,
   "metadata": {},
   "outputs": [
    {
     "data": {
      "text/plain": [
       "85"
      ]
     },
     "execution_count": 58,
     "metadata": {},
     "output_type": "execute_result"
    }
   ],
   "source": [
    "places_by_number[['http://sws.geonames.org/6269131/']][0]"
   ]
  },
  {
   "cell_type": "markdown",
   "metadata": {},
   "source": [
    "### Create a chart to visualize the results\n",
    "This chart shows the number of resources by date."
   ]
  },
  {
   "cell_type": "code",
   "execution_count": 59,
   "metadata": {},
   "outputs": [
    {
     "data": {
      "image/png": "[encoded data removed]",
      "text/plain": [
       "<Figure size 1008x576 with 1 Axes>"
      ]
     },
     "metadata": {
      "needs_background": "light"
     },
     "output_type": "display_data"
    }
   ],
   "source": [
    "ax = df['date'].value_counts().plot(kind='bar',\n",
    "                                    figsize=(14,8),\n",
    "                                    title=\"Number of resources per date\")\n",
    "ax.set_xlabel(\"Dates\")\n",
    "ax.set_ylabel(\"Resources\")\n",
    "plt.show()"
   ]
  },
  {
   "cell_type": "markdown",
   "metadata": {},
   "source": [
    "### Let's group the items by year"
   ]
  },
  {
   "cell_type": "code",
   "execution_count": 60,
   "metadata": {},
   "outputs": [],
   "source": [
    "# First we create a new column in pandas with the year\n",
    "df['year'] = pd.DatetimeIndex(df['date']).year"
   ]
  },
  {
   "cell_type": "code",
   "execution_count": 61,
   "metadata": {},
   "outputs": [
    {
     "data": {
      "text/plain": [
       "0      2006\n",
       "1      2006\n",
       "2      2006\n",
       "3      2020\n",
       "4      2019\n",
       "       ... \n",
       "135    2020\n",
       "136    2020\n",
       "137    2020\n",
       "138    2020\n",
       "139    2020\n",
       "Name: year, Length: 140, dtype: int64"
      ]
     },
     "execution_count": 61,
     "metadata": {},
     "output_type": "execute_result"
    }
   ],
   "source": [
    "df['year']"
   ]
  },
  {
   "cell_type": "markdown",
   "metadata": {},
   "source": [
    "### Creating the chart by year"
   ]
  },
  {
   "cell_type": "code",
   "execution_count": 62,
   "metadata": {},
   "outputs": [
    {
     "data": {
      "image/png": "[encoded data removed]",
      "text/plain": [
       "<Figure size 1008x576 with 1 Axes>"
      ]
     },
     "metadata": {
      "needs_background": "light"
     },
     "output_type": "display_data"
    }
   ],
   "source": [
    "ax = df['year'].value_counts().plot(kind='bar',\n",
    "                                    figsize=(14,8),\n",
    "                                    title=\"Number of resources per year\")\n",
    "ax.set_xlabel(\"Dates\")\n",
    "ax.set_ylabel(\"Resources\")\n",
    "plt.show()"
   ]
  },
  {
   "cell_type": "markdown",
   "metadata": {},
   "source": [
    "## Exploring the places"
   ]
  },
  {
   "cell_type": "code",
   "execution_count": 15,
   "metadata": {},
   "outputs": [
    {
     "name": "stdout",
     "output_type": "stream",
     "text": [
      "http://sws.geonames.org/1269750/\n",
      "http://sws.geonames.org/2921044/\n",
      "http://sws.geonames.org/6251999/\n",
      "http://sws.geonames.org/6252001/\n",
      "http://sws.geonames.org/6269131/\n",
      " \"1269750\" \"2921044\" \"6251999\" \"6252001\" \"6269131\"\n"
     ]
    }
   ],
   "source": [
    "# Get unique values\n",
    "places = pd.unique(df['place']).tolist()\n",
    "strplaces = ''\n",
    "for a in sorted(places):\n",
    "    print(a)\n",
    "    strplaces = strplaces + ' \\\"' + a.replace(\"http://sws.geonames.org/\", \"\").replace(\"/\", \"\") + '\\\"'\n",
    "print(strplaces)"
   ]
  },
  {
   "cell_type": "markdown",
   "metadata": {},
   "source": [
    "### Getting latitude and longitude from Wikidata"
   ]
  },
  {
   "cell_type": "code",
   "execution_count": 16,
   "metadata": {},
   "outputs": [
    {
     "name": "stdout",
     "output_type": "stream",
     "text": [
      "\n",
      "PREFIX bibo: <http://purl.org/ontology/bibo/>\n",
      "SELECT ?idgeonames ?lat ?lon ?x ?xLabel \n",
      "WHERE { \n",
      "  values ?idgeonames {  \"1269750\" \"2921044\" \"6251999\" \"6252001\" \"6269131\" } \n",
      "  ?x wdt:P1566 ?idgeonames ; \n",
      "   p:P625 [\n",
      "     psv:P625 [\n",
      "       wikibase:geoLatitude ?lat ;\n",
      "       wikibase:geoLongitude ?lon ;\n",
      "       wikibase:geoGlobe ?globe ;\n",
      "     ];\n",
      "     ps:P625 ?coord\n",
      "   ]\n",
      "   SERVICE wikibase:label { bd:serviceParam wikibase:language \"[AUTO_LANGUAGE],en\". }\n",
      "}\n",
      "\n"
     ]
    }
   ],
   "source": [
    "url = 'https://query.wikidata.org/sparql'\n",
    "query = \"\"\"\n",
    "PREFIX bibo: <http://purl.org/ontology/bibo/>\n",
    "SELECT ?idgeonames ?lat ?lon ?x ?xLabel \n",
    "WHERE {{ \n",
    "  values ?idgeonames {{ {0} }} \n",
    "  ?x wdt:P1566 ?idgeonames ; \n",
    "   p:P625 [\n",
    "     psv:P625 [\n",
    "       wikibase:geoLatitude ?lat ;\n",
    "       wikibase:geoLongitude ?lon ;\n",
    "       wikibase:geoGlobe ?globe ;\n",
    "     ];\n",
    "     ps:P625 ?coord\n",
    "   ]\n",
    "   SERVICE wikibase:label {{ bd:serviceParam wikibase:language \"[AUTO_LANGUAGE],en\". }}\n",
    "}}\n",
    "\"\"\"\n",
    "\n",
    "query = query.format(strplaces)\n",
    "print(query)\n",
    "\n",
    "# use json as a result\n",
    "r = requests.get(url, params = {'format': 'json', 'query': query})\n",
    "geopoints = r.json()"
   ]
  },
  {
   "cell_type": "markdown",
   "metadata": {},
   "source": [
    "### Finally, we add the markers to the map"
   ]
  },
  {
   "cell_type": "code",
   "execution_count": 17,
   "metadata": {},
   "outputs": [
    {
     "name": "stdout",
     "output_type": "stream",
     "text": [
      "51.0 10.0\n",
      "22.8 83.0\n",
      "53.0 -1.0\n",
      "56.0 -109.0\n",
      "39.828175 -98.5795\n"
     ]
    }
   ],
   "source": [
    "map = folium.Map(location=[0,0], zoom_start=1.5)\n",
    "\n",
    "for geo in geopoints['results']['bindings']:\n",
    "    idwikidata = geo['x']['value']\n",
    "    lat = geo['lat']['value']\n",
    "    lon = geo['lon']['value']\n",
    "    idgeonames = geo['idgeonames']['value']\n",
    "    label = geo['xLabel']['value']\n",
    "    print(lat, lon)\n",
    "    \n",
    "    # adding a text to the popup\n",
    "    count = places_by_number[['http://sws.geonames.org/' + idgeonames + '/']][0]\n",
    "    popup = str(count) + \" records published in <a hreh='\" + str(idwikidata) + \"'>\" + label + \"</a>\"\n",
    "    \n",
    "    folium.Marker([lat,lon], popup= popup).add_to(map)"
   ]
  },
  {
   "cell_type": "code",
   "execution_count": 44,
   "metadata": {},
   "outputs": [
    {
     "data": {
      "text/html": [
       "<div style=\"width:100%;\"><div style=\"position:relative;width:100%;height:0;padding-bottom:60%;\"><iframe src=\"about:blank\" style=\"position:absolute;width:100%;height:100%;left:0;top:0;border:none !important;\" data-html=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 onload=\"this.contentDocument.open();this.contentDocument.write(atob(this.getAttribute('data-html')));this.contentDocument.close();\" allowfullscreen webkitallowfullscreen mozallowfullscreen></iframe></div></div>"
      ],
      "text/plain": [
       "<folium.folium.Map at 0x7f0e0629a940>"
      ]
     },
     "execution_count": 44,
     "metadata": {},
     "output_type": "execute_result"
    }
   ],
   "source": [
    "map"
   ]
  },
  {
   "cell_type": "code",
   "execution_count": null,
   "metadata": {},
   "outputs": [],
   "source": []
  },
  {
   "cell_type": "code",
   "execution_count": null,
   "metadata": {},
   "outputs": [],
   "source": []
  }
 ],
 "metadata": {
  "kernelspec": {
   "display_name": "Python 3",
   "language": "python",
   "name": "python3"
  },
  "language_info": {
   "codemirror_mode": {
    "name": "ipython",
    "version": 3
   },
   "file_extension": ".py",
   "mimetype": "text/x-python",
   "name": "python",
   "nbconvert_exporter": "python",
   "pygments_lexer": "ipython3",
   "version": "3.6.9"
  }
 },
 "nbformat": 4,
 "nbformat_minor": 2
}
