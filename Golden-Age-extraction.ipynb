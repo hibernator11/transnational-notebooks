{
 "cells": [
  {
   "cell_type": "markdown",
   "metadata": {},
   "source": [
    "# Golden Age: A transnational approach\n",
    "\n",
    "Influential genres of art and literature from the ancient Greek and the Roman Empire to the Renaissance and the rise of Modernism have made their mark on history. Periods from early 16th century to the late 17th century have been considered the high point in literature and art in several countries.\n",
    "\n",
    "In this sense, the Dutch Golden Age is a period in the history of Netherlands from 1575 to 1675 in which Dutch science and art were among the most acclaimed in the world. Similarly, the Spanish Golden Age is a period of flourishing in arts and literature in Spain during the 16th and 17th centuries.\n",
    "\n",
    "GLAM institutions have made a great effort in order to digitise and make openly available in different forms the literature and art produce in this period. In addition, For instance, the Rijksmuseum and the Metropolitan Museum of Art offers different ways of accessing the collection data, such as downloads and APIs.\\footnote{https://www.rijksmuseum.nl/en/data} Several corpora have been published including text using standard and interoperable formats.\\cite{DBLP:conf/datech/RomeroEN17} Wikidata have been collaborativelly edited by volunteers and enriched by repositories of all around the world. Other approaches are based on the use of Linked Open Data to track and trace processes of canonization in early modern Dutch literature publishing enriched LOD datasets as a result.\\cite{nijboer_harm_2020_3875652}\n",
    "\n",
    "This transnational dataset is based in several repositories that are available in different platforms, using different formats and including different types of materials. Table \\ref{art} presents an overview of the sources used including the main features of each of them.\n",
    "\n",
    "\n",
    "add table!!!\n",
    "\n",
    "|Institution|URL|Fearures|\n",
    "|---|---|---|\n",
    "|British National Bibliography| https://bnb.data.bl.uk  | P5361  |\n",
    "|Biblioteca Nacional de España   | http://datos.bne.es     | P950  | \n",
    "|Bibliothèque nationale du France   | https://data.bnf.fr  | P268  | \n",
    "|National Library of Greece | https://data.nlg.gr | P3348|\n",
    "|National Library of Korea | http://lod.nl.go.kr | P5034|\n",
    "|National Library of Netherlands | https://data.bibliotheken.nl | P1006|\n"
   ]
  },
  {
   "cell_type": "markdown",
   "metadata": {},
   "source": [
    "If we visit the entity of [Francis Bacon](https://www.wikidata.org/wiki/Q37388) in Wikidata we will see the British National Bibliography property (see the identifiers section):\n",
    "\n",
    "<img src=\"images/francis-bacon-wikidata.png\" width=\"60%\">"
   ]
  },
  {
   "cell_type": "markdown",
   "metadata": {},
   "source": [
    "We can create SPARQL queries using the properties of the national libraries in order to filter the results using the [Wikidata Query Service](https://w.wiki/ja8):\n",
    "\n",
    "```\n",
    "SELECT *\n",
    "WHERE {?item wdt:P5361 ?idBNB}\n",
    "LIMIT 100\n",
    "```"
   ]
  },
  {
   "cell_type": "markdown",
   "metadata": {},
   "source": [
    "## Setting up things\n",
    "\n",
    "This part is essential to declare all the Python packages that we are going to use through the notebook. Note that packages can be stated in different cells but in order to provide a clean code they should be grouped in one cell."
   ]
  },
  {
   "cell_type": "code",
   "execution_count": 2,
   "metadata": {},
   "outputs": [],
   "source": [
    "import requests as r\n",
    "import pandas as pd\n",
    "import json\n",
    "import matplotlib.pyplot as plt\n",
    "from pandas.io.json import json_normalize  \n",
    "from datapackage import Package\n",
    "from SPARQLWrapper import SPARQLWrapper, JSON\n",
    "import networkx as nx\n",
    "from matplotlib.pyplot import figure"
   ]
  },
  {
   "cell_type": "markdown",
   "metadata": {},
   "source": [
    "## Let's query the repository by asking the authors linked in Wikidata\n",
    "We will use the [SPARQL endpoint](https://bnb.data.bl.uk/flint-sparql) to create the query and configure the request to retrieve json as a result. \n",
    "\n",
    "The SPARQL query includes several UNION instructions to query each library by means of its property. The authors are filtered by birth date. The OPTIONAL instruction is used to include the value in case it exists in Wikidata.\n",
    "\n",
    "*Note: The execution of this query may take a while. The result is already provided in this [project](libraries-data.json) so you can pass to the next step.*"
   ]
  },
  {
   "cell_type": "code",
   "execution_count": 7,
   "metadata": {},
   "outputs": [],
   "source": [
    "sparql = SPARQLWrapper(\"https://query.wikidata.org/sparql\")\n",
    "\n",
    "sparql.setQuery(\"\"\"\n",
    "SELECT ?item (SAMPLE(?idviaf) as ?viaf) ?itemLabel \n",
    "(GROUP_CONCAT(DISTINCT ?educated;separator=\"|\") as ?educatedAt) \n",
    "(GROUP_CONCAT(DISTINCT ?influenced;separator=\"|\") as ?influencedBy) \n",
    "(GROUP_CONCAT(DISTINCT ?genre;separator=\"|\") as ?genres)\n",
    "(GROUP_CONCAT(DISTINCT ?languageSpoken;separator=\"|\") as ?languagesSpoken)\n",
    "WHERE \n",
    "{\n",
    "  {\n",
    "    VALUES ?period {wd:Q2352880 wd:Q530936} \n",
    "    ?item wdt:P135 ?period.\n",
    "    ?item wdt:P31 wd:Q5.\n",
    "    ?item wdt:P214 ?idviaf.\n",
    "    OPTIONAL {?item wdt:P737 ?influenced.}\n",
    "    OPTIONAL {?item wdt:P136 ?genre.}\n",
    "    OPTIONAL {?item wdt:P69 ?educated.}\n",
    "    OPTIONAL {?item wdt:P1412 ?languageSpoken.}\n",
    "  }\n",
    "  SERVICE wikibase:label { bd:serviceParam wikibase:language \"[AUTO_LANGUAGE],en\".}\n",
    "}\n",
    "GROUP BY ?item ?itemLabel ?viaf\"\"\")\n",
    "sparql.setReturnFormat(JSON)\n",
    "results = sparql.query().convert()"
   ]
  },
  {
   "cell_type": "markdown",
   "metadata": {},
   "source": [
    "## Save as a JSON file\n",
    "\n",
    "The result can be stored as a JSON file.\n",
    "\n",
    "**Note: the file is already in the Github repository since the query above requires a long time to be executed.**"
   ]
  },
  {
   "cell_type": "code",
   "execution_count": 8,
   "metadata": {},
   "outputs": [],
   "source": [
    "with open('golden-age.json', 'w') as json_file:\n",
    "    json.dump(results, json_file)"
   ]
  },
  {
   "cell_type": "markdown",
   "metadata": {},
   "source": [
    "## Exploring the data\n",
    "\n",
    "Now we will explore the data. First, we open the JSON file and load the data in a Pandas dataframe. A dataframe in Pandas is a data structure with columns of potentially different types. You can think of it like a spreadsheet or SQL table."
   ]
  },
  {
   "cell_type": "code",
   "execution_count": 9,
   "metadata": {},
   "outputs": [
    {
     "name": "stderr",
     "output_type": "stream",
     "text": [
      "/home/gustavo/.local/lib/python3.6/site-packages/ipykernel_launcher.py:6: FutureWarning: pandas.io.json.json_normalize is deprecated, use pandas.json_normalize instead\n",
      "  \n"
     ]
    },
    {
     "data": {
      "text/html": [
       "<div>\n",
       "<style scoped>\n",
       "    .dataframe tbody tr th:only-of-type {\n",
       "        vertical-align: middle;\n",
       "    }\n",
       "\n",
       "    .dataframe tbody tr th {\n",
       "        vertical-align: top;\n",
       "    }\n",
       "\n",
       "    .dataframe thead th {\n",
       "        text-align: right;\n",
       "    }\n",
       "</style>\n",
       "<table border=\"1\" class=\"dataframe\">\n",
       "  <thead>\n",
       "    <tr style=\"text-align: right;\">\n",
       "      <th></th>\n",
       "      <th>item.type</th>\n",
       "      <th>item.value</th>\n",
       "      <th>itemLabel.xml:lang</th>\n",
       "      <th>itemLabel.type</th>\n",
       "      <th>itemLabel.value</th>\n",
       "      <th>viaf.type</th>\n",
       "      <th>viaf.value</th>\n",
       "      <th>educatedAt.type</th>\n",
       "      <th>educatedAt.value</th>\n",
       "      <th>influencedBy.type</th>\n",
       "      <th>influencedBy.value</th>\n",
       "      <th>genres.type</th>\n",
       "      <th>genres.value</th>\n",
       "      <th>languagesSpoken.type</th>\n",
       "      <th>languagesSpoken.value</th>\n",
       "    </tr>\n",
       "  </thead>\n",
       "  <tbody>\n",
       "    <tr>\n",
       "      <th>0</th>\n",
       "      <td>uri</td>\n",
       "      <td>http://www.wikidata.org/entity/Q12023294</td>\n",
       "      <td>en</td>\n",
       "      <td>literal</td>\n",
       "      <td>Jan van Gool</td>\n",
       "      <td>literal</td>\n",
       "      <td>57416265</td>\n",
       "      <td>literal</td>\n",
       "      <td></td>\n",
       "      <td>literal</td>\n",
       "      <td></td>\n",
       "      <td>literal</td>\n",
       "      <td></td>\n",
       "      <td>literal</td>\n",
       "      <td>http://www.wikidata.org/entity/Q7411</td>\n",
       "    </tr>\n",
       "    <tr>\n",
       "      <th>1</th>\n",
       "      <td>uri</td>\n",
       "      <td>http://www.wikidata.org/entity/Q17343011</td>\n",
       "      <td>en</td>\n",
       "      <td>literal</td>\n",
       "      <td>Jacob de Gheyn III</td>\n",
       "      <td>literal</td>\n",
       "      <td>60611905</td>\n",
       "      <td>literal</td>\n",
       "      <td></td>\n",
       "      <td>literal</td>\n",
       "      <td></td>\n",
       "      <td>literal</td>\n",
       "      <td></td>\n",
       "      <td>literal</td>\n",
       "      <td></td>\n",
       "    </tr>\n",
       "    <tr>\n",
       "      <th>2</th>\n",
       "      <td>uri</td>\n",
       "      <td>http://www.wikidata.org/entity/Q2359229</td>\n",
       "      <td>en</td>\n",
       "      <td>literal</td>\n",
       "      <td>Jan Albertsz Rotius</td>\n",
       "      <td>literal</td>\n",
       "      <td>95736294</td>\n",
       "      <td>literal</td>\n",
       "      <td></td>\n",
       "      <td>literal</td>\n",
       "      <td></td>\n",
       "      <td>literal</td>\n",
       "      <td>http://www.wikidata.org/entity/Q134307</td>\n",
       "      <td>literal</td>\n",
       "      <td></td>\n",
       "    </tr>\n",
       "    <tr>\n",
       "      <th>3</th>\n",
       "      <td>uri</td>\n",
       "      <td>http://www.wikidata.org/entity/Q2486642</td>\n",
       "      <td>en</td>\n",
       "      <td>literal</td>\n",
       "      <td>David van der Plas</td>\n",
       "      <td>literal</td>\n",
       "      <td>22412408</td>\n",
       "      <td>literal</td>\n",
       "      <td></td>\n",
       "      <td>literal</td>\n",
       "      <td></td>\n",
       "      <td>literal</td>\n",
       "      <td>http://www.wikidata.org/entity/Q134307</td>\n",
       "      <td>literal</td>\n",
       "      <td>http://www.wikidata.org/entity/Q7411</td>\n",
       "    </tr>\n",
       "    <tr>\n",
       "      <th>4</th>\n",
       "      <td>uri</td>\n",
       "      <td>http://www.wikidata.org/entity/Q2576955</td>\n",
       "      <td>en</td>\n",
       "      <td>literal</td>\n",
       "      <td>Jacob van Loo</td>\n",
       "      <td>literal</td>\n",
       "      <td>95460534</td>\n",
       "      <td>literal</td>\n",
       "      <td></td>\n",
       "      <td>literal</td>\n",
       "      <td></td>\n",
       "      <td>literal</td>\n",
       "      <td>http://www.wikidata.org/entity/Q134307|http://...</td>\n",
       "      <td>literal</td>\n",
       "      <td>http://www.wikidata.org/entity/Q7411</td>\n",
       "    </tr>\n",
       "  </tbody>\n",
       "</table>\n",
       "</div>"
      ],
      "text/plain": [
       "  item.type                                item.value itemLabel.xml:lang  \\\n",
       "0       uri  http://www.wikidata.org/entity/Q12023294                 en   \n",
       "1       uri  http://www.wikidata.org/entity/Q17343011                 en   \n",
       "2       uri   http://www.wikidata.org/entity/Q2359229                 en   \n",
       "3       uri   http://www.wikidata.org/entity/Q2486642                 en   \n",
       "4       uri   http://www.wikidata.org/entity/Q2576955                 en   \n",
       "\n",
       "  itemLabel.type      itemLabel.value viaf.type viaf.value educatedAt.type  \\\n",
       "0        literal         Jan van Gool   literal   57416265         literal   \n",
       "1        literal   Jacob de Gheyn III   literal   60611905         literal   \n",
       "2        literal  Jan Albertsz Rotius   literal   95736294         literal   \n",
       "3        literal   David van der Plas   literal   22412408         literal   \n",
       "4        literal        Jacob van Loo   literal   95460534         literal   \n",
       "\n",
       "  educatedAt.value influencedBy.type influencedBy.value genres.type  \\\n",
       "0                            literal                        literal   \n",
       "1                            literal                        literal   \n",
       "2                            literal                        literal   \n",
       "3                            literal                        literal   \n",
       "4                            literal                        literal   \n",
       "\n",
       "                                        genres.value languagesSpoken.type  \\\n",
       "0                                                                 literal   \n",
       "1                                                                 literal   \n",
       "2             http://www.wikidata.org/entity/Q134307              literal   \n",
       "3             http://www.wikidata.org/entity/Q134307              literal   \n",
       "4  http://www.wikidata.org/entity/Q134307|http://...              literal   \n",
       "\n",
       "                  languagesSpoken.value  \n",
       "0  http://www.wikidata.org/entity/Q7411  \n",
       "1                                        \n",
       "2                                        \n",
       "3  http://www.wikidata.org/entity/Q7411  \n",
       "4  http://www.wikidata.org/entity/Q7411  "
      ]
     },
     "execution_count": 9,
     "metadata": {},
     "output_type": "execute_result"
    }
   ],
   "source": [
    "# Load the JSON file from disk\n",
    "# This puts the data in a Pandas DataFrame\n",
    "with open('golden-age.json') as f:\n",
    "    data = json.load(f)\n",
    "\n",
    "ga_df = pd.io.json.json_normalize(data['results']['bindings'])    \n",
    "ga_df.head()"
   ]
  },
  {
   "cell_type": "markdown",
   "metadata": {},
   "source": [
    "### Let's see the columns\n",
    "\n",
    "The Wikidata results are provided in JSON format. Each field are described by means of three columns: datatype, type and value. We are interested in the value column (e.g. birthdate.value).\n",
    "\n",
    "* item: identifier of the author in Wikidata. Wikidata identifiers starts with a Q. \n",
    "* itemLabel: label of the author in Wikidata. For instance, Miguel de Cervantes.\n",
    "* id: identifier in the external institution.\n",
    "* birthdate \n",
    "* deathdate \n",
    "* org: this field stores the institution that is linked from Wikidata\n",
    "* writtenLanguageLabel\n",
    "* deathcauseLabel \n",
    "* placeofburial \n",
    "* placeofburialLabel \n",
    "* geoplaceofburial: coordinates of the place of burial of the author \n",
    "* occupationLabel: a list of occupations of the author separated by a '|'"
   ]
  },
  {
   "cell_type": "code",
   "execution_count": 18,
   "metadata": {},
   "outputs": [
    {
     "data": {
      "text/plain": [
       "Index(['item.type', 'item.value', 'itemLabel.xml:lang', 'itemLabel.type',\n",
       "       'itemLabel.value', 'id.type', 'id.value', 'birthdate.datatype',\n",
       "       'birthdate.type', 'birthdate.value', 'deathdate.datatype',\n",
       "       'deathdate.type', 'deathdate.value', 'org.type', 'org.value',\n",
       "       'occupationLabel.type', 'occupationLabel.value', 'placeofburial.type',\n",
       "       'placeofburial.value', 'placeofburialLabel.xml:lang',\n",
       "       'placeofburialLabel.type', 'placeofburialLabel.value',\n",
       "       'geoplaceofburial.datatype', 'geoplaceofburial.type',\n",
       "       'geoplaceofburial.value', 'writtenLanguageLabel.xml:lang',\n",
       "       'writtenLanguageLabel.type', 'writtenLanguageLabel.value',\n",
       "       'deathcauseLabel.xml:lang', 'deathcauseLabel.type',\n",
       "       'deathcauseLabel.value'],\n",
       "      dtype='object')"
      ]
     },
     "execution_count": 18,
     "metadata": {},
     "output_type": "execute_result"
    }
   ],
   "source": [
    "ga_df.columns "
   ]
  },
  {
   "cell_type": "markdown",
   "metadata": {},
   "source": [
    "## How many authors from the 17th century do we have in our dataset from Wikidata?"
   ]
  },
  {
   "cell_type": "code",
   "execution_count": 19,
   "metadata": {},
   "outputs": [
    {
     "data": {
      "text/plain": [
       "33125"
      ]
     },
     "execution_count": 19,
     "metadata": {},
     "output_type": "execute_result"
    }
   ],
   "source": [
    "len(ga_df)"
   ]
  },
  {
   "cell_type": "markdown",
   "metadata": {},
   "source": [
    "### Let's count the number of unique resources \n",
    "Since the Wikidata query retrieves the identifiers per national library, some authors might be repeated."
   ]
  },
  {
   "cell_type": "code",
   "execution_count": 10,
   "metadata": {},
   "outputs": [
    {
     "ename": "NameError",
     "evalue": "name 'ga_df' is not defined",
     "output_type": "error",
     "traceback": [
      "\u001b[0;31m---------------------------------------------------------------------------\u001b[0m",
      "\u001b[0;31mNameError\u001b[0m                                 Traceback (most recent call last)",
      "\u001b[0;32m<ipython-input-10-14534e9894c2>\u001b[0m in \u001b[0;36m<module>\u001b[0;34m\u001b[0m\n\u001b[0;32m----> 1\u001b[0;31m \u001b[0mga_df\u001b[0m\u001b[0;34m[\u001b[0m\u001b[0;34m'item.value'\u001b[0m\u001b[0;34m]\u001b[0m\u001b[0;34m.\u001b[0m\u001b[0mnunique\u001b[0m\u001b[0;34m(\u001b[0m\u001b[0;34m)\u001b[0m\u001b[0;34m\u001b[0m\u001b[0;34m\u001b[0m\u001b[0m\n\u001b[0m",
      "\u001b[0;31mNameError\u001b[0m: name 'ga_df' is not defined"
     ]
    }
   ],
   "source": [
    "ga_df['item.value'].nunique()"
   ]
  },
  {
   "cell_type": "markdown",
   "metadata": {},
   "source": [
    "<iframe src='https://cdn.knightlab.com/libs/timeline/latest/embed/?source=1cWqQBZCkX9GpzFtxCWHoqFXCHg-ylTVUWlnrdYMzKUI&font=Bevan-PotanoSans&maptype=toner&width=600&height=600' width='600' height='600' frameborder='0'></iframe>\n",
    "                                "
   ]
  },
  {
   "cell_type": "code",
   "execution_count": null,
   "metadata": {},
   "outputs": [],
   "source": [
    "bfRVDJWA\n",
    "https://www.rijksmuseum.nl/api/nl/collection?key=&involvedMaker=David+van+der+Plas"
   ]
  },
  {
   "cell_type": "markdown",
   "metadata": {},
   "source": [
    "## Create Data Package\n",
    "[Data Package](https://pypi.org/project/datapackage/) is a simple container format for describing a coherent collection of data in a single 'package'. It provides the basis for convenient delivery, installation and management of datasets. There is a Python library for working with Data Packages. The descriptor consists of a JSON file describing the content which is automatically created using the infer method. Below we see the descriptor of our extracted dataset."
   ]
  },
  {
   "cell_type": "code",
   "execution_count": 24,
   "metadata": {},
   "outputs": [
    {
     "data": {
      "text/plain": [
       "{'profile': 'data-package',\n",
       " 'resources': [{'path': 'libraries-data.json',\n",
       "   'profile': 'data-resource',\n",
       "   'name': 'libraries-data',\n",
       "   'format': 'json',\n",
       "   'mediatype': 'text/json',\n",
       "   'encoding': 'utf-8'}]}"
      ]
     },
     "execution_count": 24,
     "metadata": {},
     "output_type": "execute_result"
    }
   ],
   "source": [
    "package = Package()\n",
    "package.infer('libraries-data.json')\n",
    "package.descriptor"
   ]
  },
  {
   "cell_type": "markdown",
   "metadata": {},
   "source": [
    "### Save the data package\n",
    "\n",
    "The Data Package contains the data and the descriptor as a zip file that can be reused by others researchers."
   ]
  },
  {
   "cell_type": "code",
   "execution_count": 22,
   "metadata": {},
   "outputs": [
    {
     "data": {
      "text/plain": [
       "True"
      ]
     },
     "execution_count": 22,
     "metadata": {},
     "output_type": "execute_result"
    }
   ],
   "source": [
    "package.save('datapackage.zip')"
   ]
  },
  {
   "cell_type": "markdown",
   "metadata": {},
   "source": [
    "### How many authors contains a place of burial?"
   ]
  },
  {
   "cell_type": "code",
   "execution_count": 23,
   "metadata": {},
   "outputs": [
    {
     "data": {
      "text/plain": [
       "3159"
      ]
     },
     "execution_count": 23,
     "metadata": {},
     "output_type": "execute_result"
    }
   ],
   "source": [
    "df = libraries_df[libraries_df['placeofburialLabel.value'].notnull()]\n",
    "len(df)"
   ]
  },
  {
   "cell_type": "markdown",
   "metadata": {},
   "source": [
    "### Create a chart to visualize the authors per institution in the dataset"
   ]
  },
  {
   "cell_type": "code",
   "execution_count": 13,
   "metadata": {},
   "outputs": [
    {
     "data": {
      "image/png": "[encoded data removed]",
      "text/plain": [
       "<Figure size 1008x576 with 1 Axes>"
      ]
     },
     "metadata": {
      "needs_background": "light"
     },
     "output_type": "display_data"
    }
   ],
   "source": [
    "ax = libraries_df['org.value'].value_counts().plot(kind='bar',\n",
    "                                    figsize=(14,8),\n",
    "                                    title=\"Number of authors in the 17th century per library\")\n",
    "ax.set_xlabel(\"Library\")\n",
    "ax.set_ylabel(\"Authors\")\n",
    "plt.show()"
   ]
  },
  {
   "cell_type": "markdown",
   "metadata": {},
   "source": [
    "## Identifying the most common causes of death"
   ]
  },
  {
   "cell_type": "code",
   "execution_count": null,
   "metadata": {},
   "outputs": [],
   "source": [
    "ax = libraries_df['deathcauseLabel.value'].value_counts().plot(kind='bar',\n",
    "                                    figsize=(14,8),\n",
    "                                    title=\"Causes of death of authors in the 17th century\")\n",
    "ax.set_xlabel(\"Cause of death\")\n",
    "ax.set_ylabel(\"Number of authors\")\n",
    "plt.show()"
   ]
  },
  {
   "cell_type": "markdown",
   "metadata": {},
   "source": [
    "### Splitting occupation field\n",
    "\n",
    "We create a new dataframe for the occupation information. The field is splited using the character '|'. Given an author, we will obtain a row per each occupation."
   ]
  },
  {
   "cell_type": "code",
   "execution_count": 32,
   "metadata": {},
   "outputs": [
    {
     "data": {
      "text/html": [
       "<div>\n",
       "<style scoped>\n",
       "    .dataframe tbody tr th:only-of-type {\n",
       "        vertical-align: middle;\n",
       "    }\n",
       "\n",
       "    .dataframe tbody tr th {\n",
       "        vertical-align: top;\n",
       "    }\n",
       "\n",
       "    .dataframe thead th {\n",
       "        text-align: right;\n",
       "    }\n",
       "</style>\n",
       "<table border=\"1\" class=\"dataframe\">\n",
       "  <thead>\n",
       "    <tr style=\"text-align: right;\">\n",
       "      <th></th>\n",
       "      <th>item.value</th>\n",
       "      <th>occupationLabel.value</th>\n",
       "    </tr>\n",
       "  </thead>\n",
       "  <tbody>\n",
       "    <tr>\n",
       "      <th>0</th>\n",
       "      <td>http://www.wikidata.org/entity/Q3766070</td>\n",
       "      <td>http://www.wikidata.org/entity/Q214917|http://...</td>\n",
       "    </tr>\n",
       "    <tr>\n",
       "      <th>1</th>\n",
       "      <td>http://www.wikidata.org/entity/Q1698179</td>\n",
       "      <td>http://www.wikidata.org/entity/Q4964182</td>\n",
       "    </tr>\n",
       "    <tr>\n",
       "      <th>2</th>\n",
       "      <td>http://www.wikidata.org/entity/Q8084303</td>\n",
       "      <td>http://www.wikidata.org/entity/Q36834|http://w...</td>\n",
       "    </tr>\n",
       "    <tr>\n",
       "      <th>3</th>\n",
       "      <td>http://www.wikidata.org/entity/Q98923992</td>\n",
       "      <td></td>\n",
       "    </tr>\n",
       "    <tr>\n",
       "      <th>4</th>\n",
       "      <td>http://www.wikidata.org/entity/Q4194354</td>\n",
       "      <td>http://www.wikidata.org/entity/Q13365770|http:...</td>\n",
       "    </tr>\n",
       "  </tbody>\n",
       "</table>\n",
       "</div>"
      ],
      "text/plain": [
       "                                 item.value  \\\n",
       "0   http://www.wikidata.org/entity/Q3766070   \n",
       "1   http://www.wikidata.org/entity/Q1698179   \n",
       "2   http://www.wikidata.org/entity/Q8084303   \n",
       "3  http://www.wikidata.org/entity/Q98923992   \n",
       "4   http://www.wikidata.org/entity/Q4194354   \n",
       "\n",
       "                               occupationLabel.value  \n",
       "0  http://www.wikidata.org/entity/Q214917|http://...  \n",
       "1            http://www.wikidata.org/entity/Q4964182  \n",
       "2  http://www.wikidata.org/entity/Q36834|http://w...  \n",
       "3                                                     \n",
       "4  http://www.wikidata.org/entity/Q13365770|http:...  "
      ]
     },
     "execution_count": 32,
     "metadata": {},
     "output_type": "execute_result"
    }
   ],
   "source": [
    "columns = ['item.value','occupationLabel.value']\n",
    "occupation_df = pd.DataFrame(libraries_df, columns=columns)\n",
    "occupation_df.head()"
   ]
  },
  {
   "cell_type": "code",
   "execution_count": 33,
   "metadata": {},
   "outputs": [
    {
     "data": {
      "text/html": [
       "<div>\n",
       "<style scoped>\n",
       "    .dataframe tbody tr th:only-of-type {\n",
       "        vertical-align: middle;\n",
       "    }\n",
       "\n",
       "    .dataframe tbody tr th {\n",
       "        vertical-align: top;\n",
       "    }\n",
       "\n",
       "    .dataframe thead th {\n",
       "        text-align: right;\n",
       "    }\n",
       "</style>\n",
       "<table border=\"1\" class=\"dataframe\">\n",
       "  <thead>\n",
       "    <tr style=\"text-align: right;\">\n",
       "      <th></th>\n",
       "      <th>item.value</th>\n",
       "      <th>occupationLabel.value</th>\n",
       "    </tr>\n",
       "  </thead>\n",
       "  <tbody>\n",
       "    <tr>\n",
       "      <th>0</th>\n",
       "      <td>http://www.wikidata.org/entity/Q3766070</td>\n",
       "      <td>http://www.wikidata.org/entity/Q214917</td>\n",
       "    </tr>\n",
       "    <tr>\n",
       "      <th>1</th>\n",
       "      <td>http://www.wikidata.org/entity/Q3766070</td>\n",
       "      <td>http://www.wikidata.org/entity/Q49757</td>\n",
       "    </tr>\n",
       "    <tr>\n",
       "      <th>2</th>\n",
       "      <td>http://www.wikidata.org/entity/Q3766070</td>\n",
       "      <td>http://www.wikidata.org/entity/Q36180</td>\n",
       "    </tr>\n",
       "    <tr>\n",
       "      <th>3</th>\n",
       "      <td>http://www.wikidata.org/entity/Q1698179</td>\n",
       "      <td>http://www.wikidata.org/entity/Q4964182</td>\n",
       "    </tr>\n",
       "    <tr>\n",
       "      <th>4</th>\n",
       "      <td>http://www.wikidata.org/entity/Q8084303</td>\n",
       "      <td>http://www.wikidata.org/entity/Q36834</td>\n",
       "    </tr>\n",
       "  </tbody>\n",
       "</table>\n",
       "</div>"
      ],
      "text/plain": [
       "                                item.value  \\\n",
       "0  http://www.wikidata.org/entity/Q3766070   \n",
       "1  http://www.wikidata.org/entity/Q3766070   \n",
       "2  http://www.wikidata.org/entity/Q3766070   \n",
       "3  http://www.wikidata.org/entity/Q1698179   \n",
       "4  http://www.wikidata.org/entity/Q8084303   \n",
       "\n",
       "                     occupationLabel.value  \n",
       "0   http://www.wikidata.org/entity/Q214917  \n",
       "1    http://www.wikidata.org/entity/Q49757  \n",
       "2    http://www.wikidata.org/entity/Q36180  \n",
       "3  http://www.wikidata.org/entity/Q4964182  \n",
       "4    http://www.wikidata.org/entity/Q36834  "
      ]
     },
     "execution_count": 33,
     "metadata": {},
     "output_type": "execute_result"
    }
   ],
   "source": [
    "# Step 1\n",
    "# We start with creating a new dataframe from the series with EmployeeId as the index\n",
    "occupation_df = pd.DataFrame(libraries_df['occupationLabel.value'].str.split('|').tolist(), index=libraries_df['item.value']).stack()\n",
    "\n",
    "# Step 2\n",
    "# We now want to get rid of the secondary index\n",
    "# To do this, we will make item.value as a column (it can't be an index since the values will be duplicated)\n",
    "occupation_df = occupation_df.reset_index([0, 'item.value'])\n",
    "\n",
    "# Step 3\n",
    "# The final step is to set the column names as we want them\n",
    "occupation_df.columns = ['item.value', 'occupationLabel.value']\n",
    "occupation_df.head()"
   ]
  },
  {
   "cell_type": "code",
   "execution_count": 34,
   "metadata": {},
   "outputs": [
    {
     "data": {
      "text/plain": [
       "67580"
      ]
     },
     "execution_count": 34,
     "metadata": {},
     "output_type": "execute_result"
    }
   ],
   "source": [
    "len(occupation_df)"
   ]
  },
  {
   "cell_type": "markdown",
   "metadata": {},
   "source": [
    "## Getting the most common occupations\n",
    "\n",
    "Pandas provides many functionalities to group our data. For instance, the most common occupations are listed below."
   ]
  },
  {
   "cell_type": "code",
   "execution_count": 35,
   "metadata": {},
   "outputs": [
    {
     "data": {
      "text/html": [
       "<div>\n",
       "<style scoped>\n",
       "    .dataframe tbody tr th:only-of-type {\n",
       "        vertical-align: middle;\n",
       "    }\n",
       "\n",
       "    .dataframe tbody tr th {\n",
       "        vertical-align: top;\n",
       "    }\n",
       "\n",
       "    .dataframe thead th {\n",
       "        text-align: right;\n",
       "    }\n",
       "</style>\n",
       "<table border=\"1\" class=\"dataframe\">\n",
       "  <thead>\n",
       "    <tr style=\"text-align: right;\">\n",
       "      <th></th>\n",
       "      <th>occupationLabel.value</th>\n",
       "      <th>count</th>\n",
       "    </tr>\n",
       "  </thead>\n",
       "  <tbody>\n",
       "    <tr>\n",
       "      <th>613</th>\n",
       "      <td>http://www.wikidata.org/entity/Q36180</td>\n",
       "      <td>5237</td>\n",
       "    </tr>\n",
       "    <tr>\n",
       "      <th>0</th>\n",
       "      <td></td>\n",
       "      <td>3707</td>\n",
       "    </tr>\n",
       "    <tr>\n",
       "      <th>4</th>\n",
       "      <td>http://www.wikidata.org/entity/Q1028181</td>\n",
       "      <td>3400</td>\n",
       "    </tr>\n",
       "    <tr>\n",
       "      <th>620</th>\n",
       "      <td>http://www.wikidata.org/entity/Q36834</td>\n",
       "      <td>2791</td>\n",
       "    </tr>\n",
       "    <tr>\n",
       "      <th>380</th>\n",
       "      <td>http://www.wikidata.org/entity/Q201788</td>\n",
       "      <td>2402</td>\n",
       "    </tr>\n",
       "    <tr>\n",
       "      <th>80</th>\n",
       "      <td>http://www.wikidata.org/entity/Q1234713</td>\n",
       "      <td>2331</td>\n",
       "    </tr>\n",
       "    <tr>\n",
       "      <th>701</th>\n",
       "      <td>http://www.wikidata.org/entity/Q49757</td>\n",
       "      <td>2324</td>\n",
       "    </tr>\n",
       "    <tr>\n",
       "      <th>857</th>\n",
       "      <td>http://www.wikidata.org/entity/Q82955</td>\n",
       "      <td>2260</td>\n",
       "    </tr>\n",
       "    <tr>\n",
       "      <th>233</th>\n",
       "      <td>http://www.wikidata.org/entity/Q1622272</td>\n",
       "      <td>2154</td>\n",
       "    </tr>\n",
       "    <tr>\n",
       "      <th>487</th>\n",
       "      <td>http://www.wikidata.org/entity/Q250867</td>\n",
       "      <td>1490</td>\n",
       "    </tr>\n",
       "  </tbody>\n",
       "</table>\n",
       "</div>"
      ],
      "text/plain": [
       "                       occupationLabel.value  count\n",
       "613    http://www.wikidata.org/entity/Q36180   5237\n",
       "0                                              3707\n",
       "4    http://www.wikidata.org/entity/Q1028181   3400\n",
       "620    http://www.wikidata.org/entity/Q36834   2791\n",
       "380   http://www.wikidata.org/entity/Q201788   2402\n",
       "80   http://www.wikidata.org/entity/Q1234713   2331\n",
       "701    http://www.wikidata.org/entity/Q49757   2324\n",
       "857    http://www.wikidata.org/entity/Q82955   2260\n",
       "233  http://www.wikidata.org/entity/Q1622272   2154\n",
       "487   http://www.wikidata.org/entity/Q250867   1490"
      ]
     },
     "execution_count": 35,
     "metadata": {},
     "output_type": "execute_result"
    }
   ],
   "source": [
    "occupation_df.groupby(\"occupationLabel.value\")['item.value'].count().reset_index(name='count').sort_values(['count'], ascending=False).head(10)"
   ]
  },
  {
   "cell_type": "markdown",
   "metadata": {},
   "source": [
    "### Create a graph to identify patterns in occupation information\n",
    "\n",
    "Each Wikidata link corresponds to a label as is shown below. We will analyse the most common occupations using a graph chart based on the Pyhon library NetworkX. It permits the use of a Pandas dataframe as a source."
   ]
  },
  {
   "cell_type": "code",
   "execution_count": 36,
   "metadata": {},
   "outputs": [
    {
     "ename": "KeyError",
     "evalue": "'https://www.wikidata.org/wiki/Q36180'",
     "output_type": "error",
     "traceback": [
      "\u001b[0;31m---------------------------------------------------------------------------\u001b[0m",
      "\u001b[0;31mKeyError\u001b[0m                                  Traceback (most recent call last)",
      "\u001b[0;32m<ipython-input-36-8a30d541f63a>\u001b[0m in \u001b[0;36m<module>\u001b[0;34m\u001b[0m\n\u001b[1;32m     14\u001b[0m \u001b[0;34m\u001b[0m\u001b[0m\n\u001b[1;32m     15\u001b[0m \u001b[0;31m# Plot it\u001b[0m\u001b[0;34m\u001b[0m\u001b[0;34m\u001b[0m\u001b[0;34m\u001b[0m\u001b[0m\n\u001b[0;32m---> 16\u001b[0;31m \u001b[0mnx\u001b[0m\u001b[0;34m.\u001b[0m\u001b[0mdraw\u001b[0m\u001b[0;34m(\u001b[0m\u001b[0mG\u001b[0m\u001b[0;34m,\u001b[0m \u001b[0mlabels\u001b[0m\u001b[0;34m=\u001b[0m\u001b[0mlabeldict\u001b[0m\u001b[0;34m,\u001b[0m \u001b[0mwith_labels\u001b[0m \u001b[0;34m=\u001b[0m \u001b[0;32mTrue\u001b[0m\u001b[0;34m)\u001b[0m\u001b[0;34m\u001b[0m\u001b[0;34m\u001b[0m\u001b[0m\n\u001b[0m\u001b[1;32m     17\u001b[0m \u001b[0;34m\u001b[0m\u001b[0m\n\u001b[1;32m     18\u001b[0m \u001b[0mplt\u001b[0m\u001b[0;34m.\u001b[0m\u001b[0mshow\u001b[0m\u001b[0;34m(\u001b[0m\u001b[0;34m)\u001b[0m\u001b[0;34m\u001b[0m\u001b[0;34m\u001b[0m\u001b[0m\n",
      "\u001b[0;32m~/.local/lib/python3.6/site-packages/networkx/drawing/nx_pylab.py\u001b[0m in \u001b[0;36mdraw\u001b[0;34m(G, pos, ax, **kwds)\u001b[0m\n\u001b[1;32m    123\u001b[0m         \u001b[0mkwds\u001b[0m\u001b[0;34m[\u001b[0m\u001b[0;34m'with_labels'\u001b[0m\u001b[0;34m]\u001b[0m \u001b[0;34m=\u001b[0m \u001b[0;34m'labels'\u001b[0m \u001b[0;32min\u001b[0m \u001b[0mkwds\u001b[0m\u001b[0;34m\u001b[0m\u001b[0;34m\u001b[0m\u001b[0m\n\u001b[1;32m    124\u001b[0m \u001b[0;34m\u001b[0m\u001b[0m\n\u001b[0;32m--> 125\u001b[0;31m     \u001b[0mdraw_networkx\u001b[0m\u001b[0;34m(\u001b[0m\u001b[0mG\u001b[0m\u001b[0;34m,\u001b[0m \u001b[0mpos\u001b[0m\u001b[0;34m=\u001b[0m\u001b[0mpos\u001b[0m\u001b[0;34m,\u001b[0m \u001b[0max\u001b[0m\u001b[0;34m=\u001b[0m\u001b[0max\u001b[0m\u001b[0;34m,\u001b[0m \u001b[0;34m**\u001b[0m\u001b[0mkwds\u001b[0m\u001b[0;34m)\u001b[0m\u001b[0;34m\u001b[0m\u001b[0;34m\u001b[0m\u001b[0m\n\u001b[0m\u001b[1;32m    126\u001b[0m     \u001b[0max\u001b[0m\u001b[0;34m.\u001b[0m\u001b[0mset_axis_off\u001b[0m\u001b[0;34m(\u001b[0m\u001b[0;34m)\u001b[0m\u001b[0;34m\u001b[0m\u001b[0;34m\u001b[0m\u001b[0m\n\u001b[1;32m    127\u001b[0m     \u001b[0mplt\u001b[0m\u001b[0;34m.\u001b[0m\u001b[0mdraw_if_interactive\u001b[0m\u001b[0;34m(\u001b[0m\u001b[0;34m)\u001b[0m\u001b[0;34m\u001b[0m\u001b[0;34m\u001b[0m\u001b[0m\n",
      "\u001b[0;32m~/.local/lib/python3.6/site-packages/networkx/drawing/nx_pylab.py\u001b[0m in \u001b[0;36mdraw_networkx\u001b[0;34m(G, pos, arrows, with_labels, **kwds)\u001b[0m\n\u001b[1;32m    275\u001b[0m     \u001b[0medge_collection\u001b[0m \u001b[0;34m=\u001b[0m \u001b[0mdraw_networkx_edges\u001b[0m\u001b[0;34m(\u001b[0m\u001b[0mG\u001b[0m\u001b[0;34m,\u001b[0m \u001b[0mpos\u001b[0m\u001b[0;34m,\u001b[0m \u001b[0marrows\u001b[0m\u001b[0;34m=\u001b[0m\u001b[0marrows\u001b[0m\u001b[0;34m,\u001b[0m \u001b[0;34m**\u001b[0m\u001b[0mkwds\u001b[0m\u001b[0;34m)\u001b[0m\u001b[0;34m\u001b[0m\u001b[0;34m\u001b[0m\u001b[0m\n\u001b[1;32m    276\u001b[0m     \u001b[0;32mif\u001b[0m \u001b[0mwith_labels\u001b[0m\u001b[0;34m:\u001b[0m\u001b[0;34m\u001b[0m\u001b[0;34m\u001b[0m\u001b[0m\n\u001b[0;32m--> 277\u001b[0;31m         \u001b[0mdraw_networkx_labels\u001b[0m\u001b[0;34m(\u001b[0m\u001b[0mG\u001b[0m\u001b[0;34m,\u001b[0m \u001b[0mpos\u001b[0m\u001b[0;34m,\u001b[0m \u001b[0;34m**\u001b[0m\u001b[0mkwds\u001b[0m\u001b[0;34m)\u001b[0m\u001b[0;34m\u001b[0m\u001b[0;34m\u001b[0m\u001b[0m\n\u001b[0m\u001b[1;32m    278\u001b[0m     \u001b[0mplt\u001b[0m\u001b[0;34m.\u001b[0m\u001b[0mdraw_if_interactive\u001b[0m\u001b[0;34m(\u001b[0m\u001b[0;34m)\u001b[0m\u001b[0;34m\u001b[0m\u001b[0;34m\u001b[0m\u001b[0m\n\u001b[1;32m    279\u001b[0m \u001b[0;34m\u001b[0m\u001b[0m\n",
      "\u001b[0;32m~/.local/lib/python3.6/site-packages/networkx/drawing/nx_pylab.py\u001b[0m in \u001b[0;36mdraw_networkx_labels\u001b[0;34m(G, pos, labels, font_size, font_color, font_family, font_weight, alpha, bbox, ax, **kwds)\u001b[0m\n\u001b[1;32m    798\u001b[0m     \u001b[0mtext_items\u001b[0m \u001b[0;34m=\u001b[0m \u001b[0;34m{\u001b[0m\u001b[0;34m}\u001b[0m  \u001b[0;31m# there is no text collection so we'll fake one\u001b[0m\u001b[0;34m\u001b[0m\u001b[0;34m\u001b[0m\u001b[0m\n\u001b[1;32m    799\u001b[0m     \u001b[0;32mfor\u001b[0m \u001b[0mn\u001b[0m\u001b[0;34m,\u001b[0m \u001b[0mlabel\u001b[0m \u001b[0;32min\u001b[0m \u001b[0mlabels\u001b[0m\u001b[0;34m.\u001b[0m\u001b[0mitems\u001b[0m\u001b[0;34m(\u001b[0m\u001b[0;34m)\u001b[0m\u001b[0;34m:\u001b[0m\u001b[0;34m\u001b[0m\u001b[0;34m\u001b[0m\u001b[0m\n\u001b[0;32m--> 800\u001b[0;31m         \u001b[0;34m(\u001b[0m\u001b[0mx\u001b[0m\u001b[0;34m,\u001b[0m \u001b[0my\u001b[0m\u001b[0;34m)\u001b[0m \u001b[0;34m=\u001b[0m \u001b[0mpos\u001b[0m\u001b[0;34m[\u001b[0m\u001b[0mn\u001b[0m\u001b[0;34m]\u001b[0m\u001b[0;34m\u001b[0m\u001b[0;34m\u001b[0m\u001b[0m\n\u001b[0m\u001b[1;32m    801\u001b[0m         \u001b[0;32mif\u001b[0m \u001b[0;32mnot\u001b[0m \u001b[0mis_string_like\u001b[0m\u001b[0;34m(\u001b[0m\u001b[0mlabel\u001b[0m\u001b[0;34m)\u001b[0m\u001b[0;34m:\u001b[0m\u001b[0;34m\u001b[0m\u001b[0;34m\u001b[0m\u001b[0m\n\u001b[1;32m    802\u001b[0m             \u001b[0mlabel\u001b[0m \u001b[0;34m=\u001b[0m \u001b[0mstr\u001b[0m\u001b[0;34m(\u001b[0m\u001b[0mlabel\u001b[0m\u001b[0;34m)\u001b[0m  \u001b[0;31m# this makes \"1\" and 1 labeled the same\u001b[0m\u001b[0;34m\u001b[0m\u001b[0;34m\u001b[0m\u001b[0m\n",
      "\u001b[0;31mKeyError\u001b[0m: 'https://www.wikidata.org/wiki/Q36180'"
     ]
    },
    {
     "data": {
      "image/png": "[encoded data removed]",
      "text/plain": [
       "<Figure size 432x288 with 1 Axes>"
      ]
     },
     "metadata": {},
     "output_type": "display_data"
    }
   ],
   "source": [
    "# Build your graph\n",
    "G = nx.from_pandas_edgelist(occupation_df, 'item.value', 'occupationLabel.value')\n",
    "\n",
    "labeldict = {}\n",
    "labeldict[\"http://www.wikidata.org/entity/Q214917\"] = \"playwright\"\n",
    "labeldict[\"http://www.wikidata.org/entity/Q49757\"] = \"poet\"\n",
    "#labeldict[\"https://www.wikidata.org/wiki/Q36180\"] = \"writer\"\n",
    "labeldict[\"https://www.wikidata.org/wiki/Q1622272\"] = \"university teacher\"\n",
    "labeldict[\"http://www.wikidata.org/entity/Q36834\"] = \"composer\"\n",
    "labeldict[\"https://www.wikidata.org/wiki/Q1028181\"] = \"painter\"\n",
    "labeldict[\"https://www.wikidata.org/wiki/Q201788\"] = \"historian\"\n",
    "labeldict[\"http://www.wikidata.org/entity/Q1234713\"] = \"theologian\"\n",
    "labeldict[\"http://www.wikidata.org/entity/Q82955\"] = \"politician\"\n",
    "\n",
    "# Plot it\n",
    "nx.draw(G, labels=labeldict, with_labels = True)\n",
    "\n",
    "plt.show()"
   ]
  },
  {
   "cell_type": "markdown",
   "metadata": {},
   "source": [
    "In addition, we can remove the labels to obtain a clean graph. The following NetworkX example is configured to work without labels."
   ]
  },
  {
   "cell_type": "code",
   "execution_count": null,
   "metadata": {},
   "outputs": [],
   "source": [
    "# Build your graph\n",
    "G = nx.from_pandas_edgelist(occupation_df, 'item.value', 'occupationLabel.value')\n",
    "\n",
    "# Plot it\n",
    "nx.draw(G, with_labels = False)\n",
    "\n",
    "plt.show()"
   ]
  },
  {
   "cell_type": "markdown",
   "metadata": {},
   "source": [
    "## References\n",
    "* https://rebeccabilbro.github.io/sparql-from-python/\n",
    "* https://ipycytoscape.readthedocs.io/en/latest/\n",
    "* https://nbviewer.jupyter.org/github/WillKoehrsen/Data-\n",
    "* Analysis/blob/master/plotly/Plotly%20Whirlwind%20Introduction.ipynb\n",
    "* https://medium.com/@sureshssarda/pandas-splitting-exploding-a-column-into-multiple-rows-b1b1d59ea12e\n",
    "* https://towardsdatascience.com/from-dataframe-to-network-graph-bbb35c8ab675"
   ]
  },
  {
   "cell_type": "code",
   "execution_count": null,
   "metadata": {},
   "outputs": [],
   "source": []
  }
 ],
 "metadata": {
  "kernelspec": {
   "display_name": "Python 3",
   "language": "python",
   "name": "python3"
  },
  "language_info": {
   "codemirror_mode": {
    "name": "ipython",
    "version": 3
   },
   "file_extension": ".py",
   "mimetype": "text/x-python",
   "name": "python",
   "nbconvert_exporter": "python",
   "pygments_lexer": "ipython3",
   "version": "3.6.9"
  }
 },
 "nbformat": 4,
 "nbformat_minor": 2
}
